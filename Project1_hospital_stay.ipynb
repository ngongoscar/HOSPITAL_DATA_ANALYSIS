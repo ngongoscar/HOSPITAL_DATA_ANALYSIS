{
 "cells": [
  {
   "cell_type": "markdown",
   "id": "3df46eb4-42a8-49ea-b7af-fb99d240d94d",
   "metadata": {},
   "source": [
    "##HEALTH CARE PROJECT ON THE LENGTH OF HOSPITAL STAY IN INTERNAL MEDICINE"
   ]
  },
  {
   "cell_type": "code",
   "execution_count": null,
   "id": "88479f25-dd67-4bad-83ff-5d0900354f92",
   "metadata": {},
   "outputs": [],
   "source": []
  },
  {
   "cell_type": "markdown",
   "id": "1bf4c371-d28a-4133-a210-fc15db8c1684",
   "metadata": {},
   "source": [
    "##QUESTION:"
   ]
  },
  {
   "cell_type": "markdown",
   "id": "d226eb8b-8ac0-42c0-9e47-7d58de13d16e",
   "metadata": {},
   "source": [
    "Did the patient's gender greatly associate with the length of hospital stay in the second quarter of 2023 in the Department of Internal Medicine?\n",
    "The hospital stakeholders would like to have the answer to this question before their next meeting in two weeks."
   ]
  },
  {
   "cell_type": "markdown",
   "id": "5af76991-fa66-44db-9ab8-9f9930da77b1",
   "metadata": {},
   "source": [
    "##STEPS IN DATA ANALYTICS:"
   ]
  },
  {
   "cell_type": "markdown",
   "id": "898ee8ea-0d85-4fe6-91bc-1ac6aadda0d8",
   "metadata": {},
   "source": [
    "Problem identification, data identification, data location, data extraction, importing libraries, importing datasets, data cleaning, data manupilation,\n",
    "data exploratory analysis, data visualization, data analysis(hypothesis testing), interpretation of results, and dissemination of the new knowledge.\n",
    "For us to answer the question, we need to establish if there is a relationship between LENGTH OF STAY(LOS) AND GENDER.\n",
    "Mann-Whitney U test or t-test will compare the medians or means of the two variables.\n",
    "Shapiro test will give guidance on which test to use.\n",
    "This project presentation will start with importing libraries."
   ]
  },
  {
   "cell_type": "markdown",
   "id": "53673425-ed6a-49c9-ba30-9867e8c70262",
   "metadata": {},
   "source": [
    "##IMPORT PYTHON LIBRARIES"
   ]
  },
  {
   "cell_type": "code",
   "execution_count": 8,
   "id": "1ec108da-6d6c-4a0c-9a60-068a422d3d0f",
   "metadata": {},
   "outputs": [],
   "source": [
    "import pandas as pd\n",
    "import numpy as np\n",
    "import scipy as scipy\n",
    "from scipy import stats\n",
    "import matplotlib.pyplot as plt\n",
    "import seaborn as sns\n",
    "import warnings\n",
    "warnings.filterwarnings('ignore')\n",
    "from datetime import datetime"
   ]
  },
  {
   "cell_type": "code",
   "execution_count": null,
   "id": "6df00071-f358-4379-875f-e15aa8fcbf28",
   "metadata": {},
   "outputs": [],
   "source": []
  },
  {
   "cell_type": "markdown",
   "id": "bcef05cb-e412-4af6-a1cf-819a3f68cbb8",
   "metadata": {},
   "source": [
    "##IMPORT 3 EXCEL FILES CORRESPONDING TO 3 MONTHS"
   ]
  },
  {
   "cell_type": "code",
   "execution_count": 11,
   "id": "a82d27d7-4a8d-4e94-b4ad-72ac52229d8f",
   "metadata": {},
   "outputs": [
    {
     "data": {
      "text/html": [
       "<div>\n",
       "<style scoped>\n",
       "    .dataframe tbody tr th:only-of-type {\n",
       "        vertical-align: middle;\n",
       "    }\n",
       "\n",
       "    .dataframe tbody tr th {\n",
       "        vertical-align: top;\n",
       "    }\n",
       "\n",
       "    .dataframe thead th {\n",
       "        text-align: right;\n",
       "    }\n",
       "</style>\n",
       "<table border=\"1\" class=\"dataframe\">\n",
       "  <thead>\n",
       "    <tr style=\"text-align: right;\">\n",
       "      <th></th>\n",
       "      <th>DATE_ADMISSION</th>\n",
       "      <th>AGE</th>\n",
       "      <th>SEX</th>\n",
       "      <th>HIV_STATUS</th>\n",
       "      <th>DIAGNOSIS</th>\n",
       "      <th>REFCLINIC</th>\n",
       "      <th>SURVIVED</th>\n",
       "      <th>DIED</th>\n",
       "      <th>DEATH_TIME</th>\n",
       "      <th>OUTCOME</th>\n",
       "      <th>DATE_OUTCOME</th>\n",
       "      <th>HOSPITAL_STAY</th>\n",
       "      <th>DOCTOR</th>\n",
       "    </tr>\n",
       "  </thead>\n",
       "  <tbody>\n",
       "    <tr>\n",
       "      <th>0</th>\n",
       "      <td>2023-04-02</td>\n",
       "      <td>NaN</td>\n",
       "      <td>F</td>\n",
       "      <td>NaN</td>\n",
       "      <td>stroke</td>\n",
       "      <td>Mahatma Ghandi</td>\n",
       "      <td>YES</td>\n",
       "      <td>NO</td>\n",
       "      <td>ALIVE</td>\n",
       "      <td>DISCHARGED</td>\n",
       "      <td>2023-04-13</td>\n",
       "      <td>11.0</td>\n",
       "      <td>Thomas</td>\n",
       "    </tr>\n",
       "    <tr>\n",
       "      <th>1</th>\n",
       "      <td>2023-04-04</td>\n",
       "      <td>49.0</td>\n",
       "      <td>F</td>\n",
       "      <td>NEGATIVE</td>\n",
       "      <td>Bronchiectasis</td>\n",
       "      <td>NaN</td>\n",
       "      <td>YES</td>\n",
       "      <td>NO</td>\n",
       "      <td>ALIVE</td>\n",
       "      <td>CARRY-FORWARD</td>\n",
       "      <td>2023-04-30</td>\n",
       "      <td>26.0</td>\n",
       "      <td>Thomas</td>\n",
       "    </tr>\n",
       "    <tr>\n",
       "      <th>2</th>\n",
       "      <td>2023-03-22</td>\n",
       "      <td>89.0</td>\n",
       "      <td>F</td>\n",
       "      <td>NEGATIVE</td>\n",
       "      <td>Acute gastroenteritis</td>\n",
       "      <td>NaN</td>\n",
       "      <td>YES</td>\n",
       "      <td>NO</td>\n",
       "      <td>ALIVE</td>\n",
       "      <td>DISCHARGED</td>\n",
       "      <td>2023-04-04</td>\n",
       "      <td>13.0</td>\n",
       "      <td>Thomas</td>\n",
       "    </tr>\n",
       "    <tr>\n",
       "      <th>3</th>\n",
       "      <td>2023-03-23</td>\n",
       "      <td>66.0</td>\n",
       "      <td>F</td>\n",
       "      <td>NEGATIVE</td>\n",
       "      <td>Asthma</td>\n",
       "      <td>NaN</td>\n",
       "      <td>YES</td>\n",
       "      <td>NO</td>\n",
       "      <td>ALIVE</td>\n",
       "      <td>DISCHARGED</td>\n",
       "      <td>2023-04-10</td>\n",
       "      <td>18.0</td>\n",
       "      <td>Thomas</td>\n",
       "    </tr>\n",
       "    <tr>\n",
       "      <th>4</th>\n",
       "      <td>2023-03-24</td>\n",
       "      <td>35.0</td>\n",
       "      <td>F</td>\n",
       "      <td>NEGATIVE</td>\n",
       "      <td>Diabetes Mellitus</td>\n",
       "      <td>HDU</td>\n",
       "      <td>YES</td>\n",
       "      <td>NO</td>\n",
       "      <td>ALIVE</td>\n",
       "      <td>DISCHARGED</td>\n",
       "      <td>2023-04-06</td>\n",
       "      <td>13.0</td>\n",
       "      <td>Thomas</td>\n",
       "    </tr>\n",
       "  </tbody>\n",
       "</table>\n",
       "</div>"
      ],
      "text/plain": [
       "  DATE_ADMISSION   AGE SEX HIV_STATUS              DIAGNOSIS       REFCLINIC  \\\n",
       "0     2023-04-02   NaN   F        NaN                 stroke  Mahatma Ghandi   \n",
       "1     2023-04-04  49.0   F   NEGATIVE         Bronchiectasis             NaN   \n",
       "2     2023-03-22  89.0   F   NEGATIVE  Acute gastroenteritis             NaN   \n",
       "3     2023-03-23  66.0   F   NEGATIVE                 Asthma             NaN   \n",
       "4     2023-03-24  35.0   F   NEGATIVE      Diabetes Mellitus             HDU   \n",
       "\n",
       "  SURVIVED DIED DEATH_TIME        OUTCOME DATE_OUTCOME  HOSPITAL_STAY  DOCTOR  \n",
       "0      YES   NO      ALIVE     DISCHARGED   2023-04-13           11.0  Thomas  \n",
       "1      YES   NO      ALIVE  CARRY-FORWARD   2023-04-30           26.0  Thomas  \n",
       "2      YES   NO      ALIVE     DISCHARGED   2023-04-04           13.0  Thomas  \n",
       "3      YES   NO      ALIVE     DISCHARGED   2023-04-10           18.0  Thomas  \n",
       "4      YES   NO      ALIVE     DISCHARGED   2023-04-06           13.0  Thomas  "
      ]
     },
     "execution_count": 11,
     "metadata": {},
     "output_type": "execute_result"
    }
   ],
   "source": [
    "df4 = pd.read_excel(r\"C:\\Users\\SmartCare\\OneDrive\\Desktop\\ANNEE_2023\\4.APRIL2023A.xlsx\",0)\n",
    "df4.head()"
   ]
  },
  {
   "cell_type": "code",
   "execution_count": 12,
   "id": "b91602f9-fa04-43db-abaa-880234b01abf",
   "metadata": {},
   "outputs": [
    {
     "data": {
      "text/html": [
       "<div>\n",
       "<style scoped>\n",
       "    .dataframe tbody tr th:only-of-type {\n",
       "        vertical-align: middle;\n",
       "    }\n",
       "\n",
       "    .dataframe tbody tr th {\n",
       "        vertical-align: top;\n",
       "    }\n",
       "\n",
       "    .dataframe thead th {\n",
       "        text-align: right;\n",
       "    }\n",
       "</style>\n",
       "<table border=\"1\" class=\"dataframe\">\n",
       "  <thead>\n",
       "    <tr style=\"text-align: right;\">\n",
       "      <th></th>\n",
       "      <th>DATE_ADMISSION</th>\n",
       "      <th>AGE</th>\n",
       "      <th>SEX</th>\n",
       "      <th>HIV_STATUS</th>\n",
       "      <th>DIAGNOSIS</th>\n",
       "      <th>REFCLINIC</th>\n",
       "      <th>SURVIVED</th>\n",
       "      <th>DIED</th>\n",
       "      <th>DEATH_TIME</th>\n",
       "      <th>OUTCOME</th>\n",
       "      <th>DATE_OUTCOME</th>\n",
       "      <th>HOSPITAL_STAY</th>\n",
       "      <th>DOCTOR</th>\n",
       "    </tr>\n",
       "  </thead>\n",
       "  <tbody>\n",
       "    <tr>\n",
       "      <th>0</th>\n",
       "      <td>2023-05-01</td>\n",
       "      <td>32.0</td>\n",
       "      <td>F</td>\n",
       "      <td>POSITIVE</td>\n",
       "      <td>ANAEMIA</td>\n",
       "      <td>SELF-REFERRAL</td>\n",
       "      <td>YES</td>\n",
       "      <td>NO</td>\n",
       "      <td>ALIVE</td>\n",
       "      <td>DISCHARGED</td>\n",
       "      <td>2023-05-08</td>\n",
       "      <td>7.0</td>\n",
       "      <td>PHIRY_Z</td>\n",
       "    </tr>\n",
       "    <tr>\n",
       "      <th>1</th>\n",
       "      <td>2023-05-01</td>\n",
       "      <td>42.0</td>\n",
       "      <td>F</td>\n",
       "      <td>POSITIVE</td>\n",
       "      <td>CKD</td>\n",
       "      <td>SELF-REFERRAL</td>\n",
       "      <td>YES</td>\n",
       "      <td>NO</td>\n",
       "      <td>ALIVE</td>\n",
       "      <td>DISCHARGED</td>\n",
       "      <td>2023-05-08</td>\n",
       "      <td>7.0</td>\n",
       "      <td>PHIRY_Z</td>\n",
       "    </tr>\n",
       "    <tr>\n",
       "      <th>2</th>\n",
       "      <td>2023-05-02</td>\n",
       "      <td>40.0</td>\n",
       "      <td>F</td>\n",
       "      <td>NEGATIVE</td>\n",
       "      <td>DYSTONIA</td>\n",
       "      <td>SELF-REFERRAL</td>\n",
       "      <td>YES</td>\n",
       "      <td>NO</td>\n",
       "      <td>ALIVE</td>\n",
       "      <td>DISCHARGED</td>\n",
       "      <td>2023-05-03</td>\n",
       "      <td>1.0</td>\n",
       "      <td>PHIRY_Z</td>\n",
       "    </tr>\n",
       "    <tr>\n",
       "      <th>3</th>\n",
       "      <td>2023-05-02</td>\n",
       "      <td>41.0</td>\n",
       "      <td>F</td>\n",
       "      <td>NEGATIVE</td>\n",
       "      <td>HTN</td>\n",
       "      <td>SELF-REFERRAL</td>\n",
       "      <td>YES</td>\n",
       "      <td>NO</td>\n",
       "      <td>ALIVE</td>\n",
       "      <td>DISCHARGED</td>\n",
       "      <td>2023-05-03</td>\n",
       "      <td>1.0</td>\n",
       "      <td>PHIRY_Z</td>\n",
       "    </tr>\n",
       "    <tr>\n",
       "      <th>4</th>\n",
       "      <td>2023-05-03</td>\n",
       "      <td>44.0</td>\n",
       "      <td>F</td>\n",
       "      <td>POSITIVE</td>\n",
       "      <td>CLD</td>\n",
       "      <td>mukuni</td>\n",
       "      <td>YES</td>\n",
       "      <td>NO</td>\n",
       "      <td>ALIVE</td>\n",
       "      <td>TRANSOUT</td>\n",
       "      <td>2023-05-12</td>\n",
       "      <td>9.0</td>\n",
       "      <td>PHIRY_Z</td>\n",
       "    </tr>\n",
       "  </tbody>\n",
       "</table>\n",
       "</div>"
      ],
      "text/plain": [
       "  DATE_ADMISSION   AGE SEX HIV_STATUS DIAGNOSIS      REFCLINIC SURVIVED DIED  \\\n",
       "0     2023-05-01  32.0   F   POSITIVE   ANAEMIA  SELF-REFERRAL      YES   NO   \n",
       "1     2023-05-01  42.0   F   POSITIVE       CKD  SELF-REFERRAL      YES   NO   \n",
       "2     2023-05-02  40.0   F   NEGATIVE  DYSTONIA  SELF-REFERRAL      YES   NO   \n",
       "3     2023-05-02  41.0   F   NEGATIVE       HTN  SELF-REFERRAL      YES   NO   \n",
       "4     2023-05-03  44.0   F   POSITIVE       CLD         mukuni      YES   NO   \n",
       "\n",
       "  DEATH_TIME     OUTCOME DATE_OUTCOME  HOSPITAL_STAY   DOCTOR  \n",
       "0      ALIVE  DISCHARGED   2023-05-08            7.0  PHIRY_Z  \n",
       "1      ALIVE  DISCHARGED   2023-05-08            7.0  PHIRY_Z  \n",
       "2      ALIVE  DISCHARGED   2023-05-03            1.0  PHIRY_Z  \n",
       "3      ALIVE  DISCHARGED   2023-05-03            1.0  PHIRY_Z  \n",
       "4      ALIVE    TRANSOUT   2023-05-12            9.0  PHIRY_Z  "
      ]
     },
     "execution_count": 12,
     "metadata": {},
     "output_type": "execute_result"
    }
   ],
   "source": [
    "df5 = pd.read_excel(r\"C:\\Users\\SmartCare\\OneDrive\\Desktop\\ANNEE_2023\\5.MAY2023A.xlsx\",0)\n",
    "df5.head()"
   ]
  },
  {
   "cell_type": "code",
   "execution_count": 13,
   "id": "2aaa191c-ce24-4c9e-8a15-c53af709cc31",
   "metadata": {},
   "outputs": [
    {
     "data": {
      "text/html": [
       "<div>\n",
       "<style scoped>\n",
       "    .dataframe tbody tr th:only-of-type {\n",
       "        vertical-align: middle;\n",
       "    }\n",
       "\n",
       "    .dataframe tbody tr th {\n",
       "        vertical-align: top;\n",
       "    }\n",
       "\n",
       "    .dataframe thead th {\n",
       "        text-align: right;\n",
       "    }\n",
       "</style>\n",
       "<table border=\"1\" class=\"dataframe\">\n",
       "  <thead>\n",
       "    <tr style=\"text-align: right;\">\n",
       "      <th></th>\n",
       "      <th>DATE_ADMISSION</th>\n",
       "      <th>AGE</th>\n",
       "      <th>SEX</th>\n",
       "      <th>HIV_STATUS</th>\n",
       "      <th>DIAGNOSIS</th>\n",
       "      <th>REFCLINIC</th>\n",
       "      <th>SURVIVED</th>\n",
       "      <th>DIED</th>\n",
       "      <th>DEATH_TIME</th>\n",
       "      <th>OUTCOME</th>\n",
       "      <th>DATE_OUTCOME</th>\n",
       "      <th>HOSPITAL_STAY</th>\n",
       "      <th>DOCTOR</th>\n",
       "    </tr>\n",
       "  </thead>\n",
       "  <tbody>\n",
       "    <tr>\n",
       "      <th>0</th>\n",
       "      <td>2023-06-01</td>\n",
       "      <td>49</td>\n",
       "      <td>M</td>\n",
       "      <td>NEGATIVE</td>\n",
       "      <td>CKD</td>\n",
       "      <td>Namwala</td>\n",
       "      <td>YES</td>\n",
       "      <td>NO</td>\n",
       "      <td>ALIVE</td>\n",
       "      <td>DISCHARGED</td>\n",
       "      <td>2023-07-01</td>\n",
       "      <td>30.0</td>\n",
       "      <td>Dr Bukasaa</td>\n",
       "    </tr>\n",
       "    <tr>\n",
       "      <th>1</th>\n",
       "      <td>2023-06-02</td>\n",
       "      <td>43</td>\n",
       "      <td>M</td>\n",
       "      <td>NEGATIVE</td>\n",
       "      <td>TB</td>\n",
       "      <td>LUTH</td>\n",
       "      <td>NO</td>\n",
       "      <td>YES</td>\n",
       "      <td>&lt;48h</td>\n",
       "      <td>DIED</td>\n",
       "      <td>2023-07-02</td>\n",
       "      <td>30.0</td>\n",
       "      <td>Lukundo</td>\n",
       "    </tr>\n",
       "    <tr>\n",
       "      <th>2</th>\n",
       "      <td>2023-06-02</td>\n",
       "      <td>25</td>\n",
       "      <td>M</td>\n",
       "      <td>NaN</td>\n",
       "      <td>ANEMIA</td>\n",
       "      <td>SELF-REFERRAL</td>\n",
       "      <td>YES</td>\n",
       "      <td>NO</td>\n",
       "      <td>ALIVE</td>\n",
       "      <td>DISCHARGED</td>\n",
       "      <td>2023-06-03</td>\n",
       "      <td>1.0</td>\n",
       "      <td>Dr Bukasa</td>\n",
       "    </tr>\n",
       "    <tr>\n",
       "      <th>3</th>\n",
       "      <td>2023-06-02</td>\n",
       "      <td>63</td>\n",
       "      <td>M</td>\n",
       "      <td>NaN</td>\n",
       "      <td>BPH</td>\n",
       "      <td>SELF-REFERRAL</td>\n",
       "      <td>YES</td>\n",
       "      <td>NO</td>\n",
       "      <td>ALIVE</td>\n",
       "      <td>TRANSOUT</td>\n",
       "      <td>NaT</td>\n",
       "      <td>NaN</td>\n",
       "      <td>Dr Bukasa</td>\n",
       "    </tr>\n",
       "    <tr>\n",
       "      <th>4</th>\n",
       "      <td>2023-06-02</td>\n",
       "      <td>49</td>\n",
       "      <td>M</td>\n",
       "      <td>NEGATIVE</td>\n",
       "      <td>NEUROCYSTICERCOSIS</td>\n",
       "      <td>Choma</td>\n",
       "      <td>YES</td>\n",
       "      <td>NO</td>\n",
       "      <td>ALIVE</td>\n",
       "      <td>DISCHARGED</td>\n",
       "      <td>2023-07-07</td>\n",
       "      <td>35.0</td>\n",
       "      <td>dr Bukasa</td>\n",
       "    </tr>\n",
       "  </tbody>\n",
       "</table>\n",
       "</div>"
      ],
      "text/plain": [
       "  DATE_ADMISSION  AGE SEX HIV_STATUS           DIAGNOSIS      REFCLINIC  \\\n",
       "0     2023-06-01   49   M   NEGATIVE                 CKD        Namwala   \n",
       "1     2023-06-02   43   M   NEGATIVE                  TB           LUTH   \n",
       "2     2023-06-02   25   M        NaN              ANEMIA  SELF-REFERRAL   \n",
       "3     2023-06-02   63   M        NaN                 BPH  SELF-REFERRAL   \n",
       "4     2023-06-02   49   M   NEGATIVE  NEUROCYSTICERCOSIS          Choma   \n",
       "\n",
       "  SURVIVED DIED DEATH_TIME     OUTCOME DATE_OUTCOME  HOSPITAL_STAY      DOCTOR  \n",
       "0      YES   NO      ALIVE  DISCHARGED   2023-07-01           30.0  Dr Bukasaa  \n",
       "1       NO  YES       <48h        DIED   2023-07-02           30.0     Lukundo  \n",
       "2      YES   NO      ALIVE  DISCHARGED   2023-06-03            1.0   Dr Bukasa  \n",
       "3      YES   NO      ALIVE    TRANSOUT          NaT            NaN   Dr Bukasa  \n",
       "4      YES   NO      ALIVE  DISCHARGED   2023-07-07           35.0   dr Bukasa  "
      ]
     },
     "execution_count": 13,
     "metadata": {},
     "output_type": "execute_result"
    }
   ],
   "source": [
    "df6 = pd.read_excel(r\"C:\\Users\\SmartCare\\OneDrive\\Desktop\\ANNEE_2023\\6.JUNE2023.xlsx\",0)\n",
    "df6.head()"
   ]
  },
  {
   "cell_type": "code",
   "execution_count": null,
   "id": "a3a5f6dd-31e3-4b4a-ba69-04d51b82ea28",
   "metadata": {},
   "outputs": [],
   "source": []
  },
  {
   "cell_type": "markdown",
   "id": "960500eb-9340-4cec-a57c-297a038a08fb",
   "metadata": {},
   "source": [
    "##COMBINE BY CONCATENATING 3 SIMILAR STRUCTURED DATAFRAMES IN A SINGLE ONE"
   ]
  },
  {
   "cell_type": "code",
   "execution_count": 16,
   "id": "b8f01aa1-a658-450e-a2bf-988ea9e1b7c6",
   "metadata": {},
   "outputs": [
    {
     "data": {
      "text/html": [
       "<div>\n",
       "<style scoped>\n",
       "    .dataframe tbody tr th:only-of-type {\n",
       "        vertical-align: middle;\n",
       "    }\n",
       "\n",
       "    .dataframe tbody tr th {\n",
       "        vertical-align: top;\n",
       "    }\n",
       "\n",
       "    .dataframe thead th {\n",
       "        text-align: right;\n",
       "    }\n",
       "</style>\n",
       "<table border=\"1\" class=\"dataframe\">\n",
       "  <thead>\n",
       "    <tr style=\"text-align: right;\">\n",
       "      <th></th>\n",
       "      <th>DATE_ADMISSION</th>\n",
       "      <th>AGE</th>\n",
       "      <th>SEX</th>\n",
       "      <th>HIV_STATUS</th>\n",
       "      <th>DIAGNOSIS</th>\n",
       "      <th>REFCLINIC</th>\n",
       "      <th>SURVIVED</th>\n",
       "      <th>DIED</th>\n",
       "      <th>DEATH_TIME</th>\n",
       "      <th>OUTCOME</th>\n",
       "      <th>DATE_OUTCOME</th>\n",
       "      <th>HOSPITAL_STAY</th>\n",
       "      <th>DOCTOR</th>\n",
       "    </tr>\n",
       "  </thead>\n",
       "  <tbody>\n",
       "    <tr>\n",
       "      <th>0</th>\n",
       "      <td>2023-04-02</td>\n",
       "      <td>NaN</td>\n",
       "      <td>F</td>\n",
       "      <td>NaN</td>\n",
       "      <td>stroke</td>\n",
       "      <td>Mahatma Ghandi</td>\n",
       "      <td>YES</td>\n",
       "      <td>NO</td>\n",
       "      <td>ALIVE</td>\n",
       "      <td>DISCHARGED</td>\n",
       "      <td>2023-04-13</td>\n",
       "      <td>11.0</td>\n",
       "      <td>Thomas</td>\n",
       "    </tr>\n",
       "    <tr>\n",
       "      <th>1</th>\n",
       "      <td>2023-04-04</td>\n",
       "      <td>49.0</td>\n",
       "      <td>F</td>\n",
       "      <td>NEGATIVE</td>\n",
       "      <td>Bronchiectasis</td>\n",
       "      <td>NaN</td>\n",
       "      <td>YES</td>\n",
       "      <td>NO</td>\n",
       "      <td>ALIVE</td>\n",
       "      <td>CARRY-FORWARD</td>\n",
       "      <td>2023-04-30</td>\n",
       "      <td>26.0</td>\n",
       "      <td>Thomas</td>\n",
       "    </tr>\n",
       "    <tr>\n",
       "      <th>2</th>\n",
       "      <td>2023-03-22</td>\n",
       "      <td>89.0</td>\n",
       "      <td>F</td>\n",
       "      <td>NEGATIVE</td>\n",
       "      <td>Acute gastroenteritis</td>\n",
       "      <td>NaN</td>\n",
       "      <td>YES</td>\n",
       "      <td>NO</td>\n",
       "      <td>ALIVE</td>\n",
       "      <td>DISCHARGED</td>\n",
       "      <td>2023-04-04</td>\n",
       "      <td>13.0</td>\n",
       "      <td>Thomas</td>\n",
       "    </tr>\n",
       "    <tr>\n",
       "      <th>3</th>\n",
       "      <td>2023-03-23</td>\n",
       "      <td>66.0</td>\n",
       "      <td>F</td>\n",
       "      <td>NEGATIVE</td>\n",
       "      <td>Asthma</td>\n",
       "      <td>NaN</td>\n",
       "      <td>YES</td>\n",
       "      <td>NO</td>\n",
       "      <td>ALIVE</td>\n",
       "      <td>DISCHARGED</td>\n",
       "      <td>2023-04-10</td>\n",
       "      <td>18.0</td>\n",
       "      <td>Thomas</td>\n",
       "    </tr>\n",
       "    <tr>\n",
       "      <th>4</th>\n",
       "      <td>2023-03-24</td>\n",
       "      <td>35.0</td>\n",
       "      <td>F</td>\n",
       "      <td>NEGATIVE</td>\n",
       "      <td>Diabetes Mellitus</td>\n",
       "      <td>HDU</td>\n",
       "      <td>YES</td>\n",
       "      <td>NO</td>\n",
       "      <td>ALIVE</td>\n",
       "      <td>DISCHARGED</td>\n",
       "      <td>2023-04-06</td>\n",
       "      <td>13.0</td>\n",
       "      <td>Thomas</td>\n",
       "    </tr>\n",
       "  </tbody>\n",
       "</table>\n",
       "</div>"
      ],
      "text/plain": [
       "  DATE_ADMISSION   AGE SEX HIV_STATUS              DIAGNOSIS       REFCLINIC  \\\n",
       "0     2023-04-02   NaN   F        NaN                 stroke  Mahatma Ghandi   \n",
       "1     2023-04-04  49.0   F   NEGATIVE         Bronchiectasis             NaN   \n",
       "2     2023-03-22  89.0   F   NEGATIVE  Acute gastroenteritis             NaN   \n",
       "3     2023-03-23  66.0   F   NEGATIVE                 Asthma             NaN   \n",
       "4     2023-03-24  35.0   F   NEGATIVE      Diabetes Mellitus             HDU   \n",
       "\n",
       "  SURVIVED DIED DEATH_TIME        OUTCOME DATE_OUTCOME  HOSPITAL_STAY  DOCTOR  \n",
       "0      YES   NO      ALIVE     DISCHARGED   2023-04-13           11.0  Thomas  \n",
       "1      YES   NO      ALIVE  CARRY-FORWARD   2023-04-30           26.0  Thomas  \n",
       "2      YES   NO      ALIVE     DISCHARGED   2023-04-04           13.0  Thomas  \n",
       "3      YES   NO      ALIVE     DISCHARGED   2023-04-10           18.0  Thomas  \n",
       "4      YES   NO      ALIVE     DISCHARGED   2023-04-06           13.0  Thomas  "
      ]
     },
     "execution_count": 16,
     "metadata": {},
     "output_type": "execute_result"
    }
   ],
   "source": [
    "df13 = pd.concat([df4,df5,df6],ignore_index=True)\n",
    "df13.head()"
   ]
  },
  {
   "cell_type": "code",
   "execution_count": null,
   "id": "17214e5f-da33-4231-b0e1-ce4399f57686",
   "metadata": {},
   "outputs": [],
   "source": []
  },
  {
   "cell_type": "markdown",
   "id": "72c147f4-d040-43d7-8c72-2e8636d1e6a0",
   "metadata": {},
   "source": [
    "####UNDERSTANDING DATA IN DEPTH"
   ]
  },
  {
   "cell_type": "code",
   "execution_count": 19,
   "id": "471c3157-f576-4d3f-b39e-fb611942502d",
   "metadata": {},
   "outputs": [
    {
     "name": "stdout",
     "output_type": "stream",
     "text": [
      "<class 'pandas.core.frame.DataFrame'>\n",
      "RangeIndex: 527 entries, 0 to 526\n",
      "Data columns (total 13 columns):\n",
      " #   Column          Non-Null Count  Dtype         \n",
      "---  ------          --------------  -----         \n",
      " 0   DATE_ADMISSION  527 non-null    datetime64[ns]\n",
      " 1   AGE             500 non-null    float64       \n",
      " 2   SEX             521 non-null    object        \n",
      " 3   HIV_STATUS      458 non-null    object        \n",
      " 4   DIAGNOSIS       511 non-null    object        \n",
      " 5   REFCLINIC       382 non-null    object        \n",
      " 6   SURVIVED        511 non-null    object        \n",
      " 7   DIED            514 non-null    object        \n",
      " 8   DEATH_TIME      527 non-null    object        \n",
      " 9   OUTCOME         521 non-null    object        \n",
      " 10  DATE_OUTCOME    496 non-null    datetime64[ns]\n",
      " 11  HOSPITAL_STAY   496 non-null    float64       \n",
      " 12  DOCTOR          527 non-null    object        \n",
      "dtypes: datetime64[ns](2), float64(2), object(9)\n",
      "memory usage: 53.7+ KB\n"
     ]
    }
   ],
   "source": [
    "df13.info()"
   ]
  },
  {
   "cell_type": "code",
   "execution_count": 20,
   "id": "6bde4fef-2997-484a-ac82-8647ade6b164",
   "metadata": {},
   "outputs": [
    {
     "data": {
      "text/plain": [
       "(527, 13)"
      ]
     },
     "execution_count": 20,
     "metadata": {},
     "output_type": "execute_result"
    }
   ],
   "source": [
    "df13.shape"
   ]
  },
  {
   "cell_type": "code",
   "execution_count": 22,
   "id": "11e1105e-0815-4151-a5c1-2c93120654df",
   "metadata": {},
   "outputs": [
    {
     "data": {
      "text/plain": [
       "array(['F', 'M', nan], dtype=object)"
      ]
     },
     "execution_count": 22,
     "metadata": {},
     "output_type": "execute_result"
    }
   ],
   "source": [
    "df13['SEX'].unique()"
   ]
  },
  {
   "cell_type": "code",
   "execution_count": 23,
   "id": "051db4b1-94e3-4271-86a5-5db088709ea3",
   "metadata": {},
   "outputs": [
    {
     "data": {
      "text/plain": [
       "SEX\n",
       "F    265\n",
       "M    256\n",
       "Name: count, dtype: int64"
      ]
     },
     "execution_count": 23,
     "metadata": {},
     "output_type": "execute_result"
    }
   ],
   "source": [
    " df13['SEX'].value_counts() "
   ]
  },
  {
   "cell_type": "code",
   "execution_count": 26,
   "id": "1f6e02b0-07bd-4b84-9e3b-dcd753fe8102",
   "metadata": {},
   "outputs": [
    {
     "data": {
      "text/plain": [
       "Index(['DATE_ADMISSION', 'AGE', 'SEX', 'HIV_STATUS', 'DIAGNOSIS', 'REFCLINIC',\n",
       "       'SURVIVED', 'DIED', 'DEATH_TIME', 'OUTCOME', 'DATE_OUTCOME',\n",
       "       'HOSPITAL_STAY', 'DOCTOR'],\n",
       "      dtype='object')"
      ]
     },
     "execution_count": 26,
     "metadata": {},
     "output_type": "execute_result"
    }
   ],
   "source": [
    "df13.columns"
   ]
  },
  {
   "cell_type": "markdown",
   "id": "05f5c3bf-781c-447a-a981-c3c8343bcec7",
   "metadata": {},
   "source": [
    "##DATA CLEANING"
   ]
  },
  {
   "cell_type": "markdown",
   "id": "33e9cf91-a15a-4f59-86da-b15891d7e63c",
   "metadata": {},
   "source": [
    "###DEALING WITH REDUNDANT DATA"
   ]
  },
  {
   "cell_type": "markdown",
   "id": "d81d5ad8-1afd-40f0-9026-ea7d12602ee7",
   "metadata": {},
   "source": [
    "####IDENTIFYING DUPLICATED DATA"
   ]
  },
  {
   "cell_type": "code",
   "execution_count": 37,
   "id": "4a01c6c4-a7b6-46b5-992a-4e09d4e35414",
   "metadata": {},
   "outputs": [
    {
     "data": {
      "text/html": [
       "<div>\n",
       "<style scoped>\n",
       "    .dataframe tbody tr th:only-of-type {\n",
       "        vertical-align: middle;\n",
       "    }\n",
       "\n",
       "    .dataframe tbody tr th {\n",
       "        vertical-align: top;\n",
       "    }\n",
       "\n",
       "    .dataframe thead th {\n",
       "        text-align: right;\n",
       "    }\n",
       "</style>\n",
       "<table border=\"1\" class=\"dataframe\">\n",
       "  <thead>\n",
       "    <tr style=\"text-align: right;\">\n",
       "      <th></th>\n",
       "      <th>DATE_ADMISSION</th>\n",
       "      <th>AGE</th>\n",
       "      <th>SEX</th>\n",
       "      <th>HIV_STATUS</th>\n",
       "      <th>DIAGNOSIS</th>\n",
       "      <th>REFCLINIC</th>\n",
       "      <th>SURVIVED</th>\n",
       "      <th>DIED</th>\n",
       "      <th>DEATH_TIME</th>\n",
       "      <th>OUTCOME</th>\n",
       "      <th>DATE_OUTCOME</th>\n",
       "      <th>HOSPITAL_STAY</th>\n",
       "      <th>DOCTOR</th>\n",
       "    </tr>\n",
       "  </thead>\n",
       "  <tbody>\n",
       "    <tr>\n",
       "      <th>0</th>\n",
       "      <td>2023-04-02</td>\n",
       "      <td>NaN</td>\n",
       "      <td>F</td>\n",
       "      <td>NaN</td>\n",
       "      <td>stroke</td>\n",
       "      <td>Mahatma Ghandi</td>\n",
       "      <td>YES</td>\n",
       "      <td>NO</td>\n",
       "      <td>ALIVE</td>\n",
       "      <td>DISCHARGED</td>\n",
       "      <td>2023-04-13</td>\n",
       "      <td>11.0</td>\n",
       "      <td>Thomas</td>\n",
       "    </tr>\n",
       "    <tr>\n",
       "      <th>1</th>\n",
       "      <td>2023-04-04</td>\n",
       "      <td>49.0</td>\n",
       "      <td>F</td>\n",
       "      <td>NEGATIVE</td>\n",
       "      <td>Bronchiectasis</td>\n",
       "      <td>NaN</td>\n",
       "      <td>YES</td>\n",
       "      <td>NO</td>\n",
       "      <td>ALIVE</td>\n",
       "      <td>CARRY-FORWARD</td>\n",
       "      <td>2023-04-30</td>\n",
       "      <td>26.0</td>\n",
       "      <td>Thomas</td>\n",
       "    </tr>\n",
       "    <tr>\n",
       "      <th>2</th>\n",
       "      <td>2023-03-22</td>\n",
       "      <td>89.0</td>\n",
       "      <td>F</td>\n",
       "      <td>NEGATIVE</td>\n",
       "      <td>Acute gastroenteritis</td>\n",
       "      <td>NaN</td>\n",
       "      <td>YES</td>\n",
       "      <td>NO</td>\n",
       "      <td>ALIVE</td>\n",
       "      <td>DISCHARGED</td>\n",
       "      <td>2023-04-04</td>\n",
       "      <td>13.0</td>\n",
       "      <td>Thomas</td>\n",
       "    </tr>\n",
       "    <tr>\n",
       "      <th>3</th>\n",
       "      <td>2023-03-23</td>\n",
       "      <td>66.0</td>\n",
       "      <td>F</td>\n",
       "      <td>NEGATIVE</td>\n",
       "      <td>Asthma</td>\n",
       "      <td>NaN</td>\n",
       "      <td>YES</td>\n",
       "      <td>NO</td>\n",
       "      <td>ALIVE</td>\n",
       "      <td>DISCHARGED</td>\n",
       "      <td>2023-04-10</td>\n",
       "      <td>18.0</td>\n",
       "      <td>Thomas</td>\n",
       "    </tr>\n",
       "    <tr>\n",
       "      <th>4</th>\n",
       "      <td>2023-03-24</td>\n",
       "      <td>35.0</td>\n",
       "      <td>F</td>\n",
       "      <td>NEGATIVE</td>\n",
       "      <td>Diabetes Mellitus</td>\n",
       "      <td>HDU</td>\n",
       "      <td>YES</td>\n",
       "      <td>NO</td>\n",
       "      <td>ALIVE</td>\n",
       "      <td>DISCHARGED</td>\n",
       "      <td>2023-04-06</td>\n",
       "      <td>13.0</td>\n",
       "      <td>Thomas</td>\n",
       "    </tr>\n",
       "  </tbody>\n",
       "</table>\n",
       "</div>"
      ],
      "text/plain": [
       "  DATE_ADMISSION   AGE SEX HIV_STATUS              DIAGNOSIS       REFCLINIC  \\\n",
       "0     2023-04-02   NaN   F        NaN                 stroke  Mahatma Ghandi   \n",
       "1     2023-04-04  49.0   F   NEGATIVE         Bronchiectasis             NaN   \n",
       "2     2023-03-22  89.0   F   NEGATIVE  Acute gastroenteritis             NaN   \n",
       "3     2023-03-23  66.0   F   NEGATIVE                 Asthma             NaN   \n",
       "4     2023-03-24  35.0   F   NEGATIVE      Diabetes Mellitus             HDU   \n",
       "\n",
       "  SURVIVED DIED DEATH_TIME        OUTCOME DATE_OUTCOME  HOSPITAL_STAY  DOCTOR  \n",
       "0      YES   NO      ALIVE     DISCHARGED   2023-04-13           11.0  Thomas  \n",
       "1      YES   NO      ALIVE  CARRY-FORWARD   2023-04-30           26.0  Thomas  \n",
       "2      YES   NO      ALIVE     DISCHARGED   2023-04-04           13.0  Thomas  \n",
       "3      YES   NO      ALIVE     DISCHARGED   2023-04-10           18.0  Thomas  \n",
       "4      YES   NO      ALIVE     DISCHARGED   2023-04-06           13.0  Thomas  "
      ]
     },
     "execution_count": 37,
     "metadata": {},
     "output_type": "execute_result"
    }
   ],
   "source": [
    "df13.duplicated()\n",
    "df13.head()"
   ]
  },
  {
   "cell_type": "code",
   "execution_count": 39,
   "id": "753904f0-da25-4f25-bb89-8a2eebbfcda8",
   "metadata": {},
   "outputs": [
    {
     "data": {
      "text/plain": [
       "5"
      ]
     },
     "execution_count": 39,
     "metadata": {},
     "output_type": "execute_result"
    }
   ],
   "source": [
    "df13.duplicated().sum()"
   ]
  },
  {
   "cell_type": "markdown",
   "id": "bf265b28-d5a1-4811-9fdd-82394142228f",
   "metadata": {},
   "source": [
    "####DROPPING DUPLICATED DATA"
   ]
  },
  {
   "cell_type": "code",
   "execution_count": 42,
   "id": "01c38c6b-3c82-4deb-9071-4158d8c764c0",
   "metadata": {},
   "outputs": [
    {
     "data": {
      "text/html": [
       "<div>\n",
       "<style scoped>\n",
       "    .dataframe tbody tr th:only-of-type {\n",
       "        vertical-align: middle;\n",
       "    }\n",
       "\n",
       "    .dataframe tbody tr th {\n",
       "        vertical-align: top;\n",
       "    }\n",
       "\n",
       "    .dataframe thead th {\n",
       "        text-align: right;\n",
       "    }\n",
       "</style>\n",
       "<table border=\"1\" class=\"dataframe\">\n",
       "  <thead>\n",
       "    <tr style=\"text-align: right;\">\n",
       "      <th></th>\n",
       "      <th>DATE_ADMISSION</th>\n",
       "      <th>AGE</th>\n",
       "      <th>SEX</th>\n",
       "      <th>HIV_STATUS</th>\n",
       "      <th>DIAGNOSIS</th>\n",
       "      <th>REFCLINIC</th>\n",
       "      <th>SURVIVED</th>\n",
       "      <th>DIED</th>\n",
       "      <th>DEATH_TIME</th>\n",
       "      <th>OUTCOME</th>\n",
       "      <th>DATE_OUTCOME</th>\n",
       "      <th>HOSPITAL_STAY</th>\n",
       "      <th>DOCTOR</th>\n",
       "    </tr>\n",
       "  </thead>\n",
       "  <tbody>\n",
       "    <tr>\n",
       "      <th>0</th>\n",
       "      <td>2023-04-02</td>\n",
       "      <td>NaN</td>\n",
       "      <td>F</td>\n",
       "      <td>NaN</td>\n",
       "      <td>stroke</td>\n",
       "      <td>Mahatma Ghandi</td>\n",
       "      <td>YES</td>\n",
       "      <td>NO</td>\n",
       "      <td>ALIVE</td>\n",
       "      <td>DISCHARGED</td>\n",
       "      <td>2023-04-13</td>\n",
       "      <td>11.0</td>\n",
       "      <td>Thomas</td>\n",
       "    </tr>\n",
       "    <tr>\n",
       "      <th>1</th>\n",
       "      <td>2023-04-04</td>\n",
       "      <td>49.0</td>\n",
       "      <td>F</td>\n",
       "      <td>NEGATIVE</td>\n",
       "      <td>Bronchiectasis</td>\n",
       "      <td>NaN</td>\n",
       "      <td>YES</td>\n",
       "      <td>NO</td>\n",
       "      <td>ALIVE</td>\n",
       "      <td>CARRY-FORWARD</td>\n",
       "      <td>2023-04-30</td>\n",
       "      <td>26.0</td>\n",
       "      <td>Thomas</td>\n",
       "    </tr>\n",
       "    <tr>\n",
       "      <th>2</th>\n",
       "      <td>2023-03-22</td>\n",
       "      <td>89.0</td>\n",
       "      <td>F</td>\n",
       "      <td>NEGATIVE</td>\n",
       "      <td>Acute gastroenteritis</td>\n",
       "      <td>NaN</td>\n",
       "      <td>YES</td>\n",
       "      <td>NO</td>\n",
       "      <td>ALIVE</td>\n",
       "      <td>DISCHARGED</td>\n",
       "      <td>2023-04-04</td>\n",
       "      <td>13.0</td>\n",
       "      <td>Thomas</td>\n",
       "    </tr>\n",
       "    <tr>\n",
       "      <th>3</th>\n",
       "      <td>2023-03-23</td>\n",
       "      <td>66.0</td>\n",
       "      <td>F</td>\n",
       "      <td>NEGATIVE</td>\n",
       "      <td>Asthma</td>\n",
       "      <td>NaN</td>\n",
       "      <td>YES</td>\n",
       "      <td>NO</td>\n",
       "      <td>ALIVE</td>\n",
       "      <td>DISCHARGED</td>\n",
       "      <td>2023-04-10</td>\n",
       "      <td>18.0</td>\n",
       "      <td>Thomas</td>\n",
       "    </tr>\n",
       "    <tr>\n",
       "      <th>4</th>\n",
       "      <td>2023-03-24</td>\n",
       "      <td>35.0</td>\n",
       "      <td>F</td>\n",
       "      <td>NEGATIVE</td>\n",
       "      <td>Diabetes Mellitus</td>\n",
       "      <td>HDU</td>\n",
       "      <td>YES</td>\n",
       "      <td>NO</td>\n",
       "      <td>ALIVE</td>\n",
       "      <td>DISCHARGED</td>\n",
       "      <td>2023-04-06</td>\n",
       "      <td>13.0</td>\n",
       "      <td>Thomas</td>\n",
       "    </tr>\n",
       "  </tbody>\n",
       "</table>\n",
       "</div>"
      ],
      "text/plain": [
       "  DATE_ADMISSION   AGE SEX HIV_STATUS              DIAGNOSIS       REFCLINIC  \\\n",
       "0     2023-04-02   NaN   F        NaN                 stroke  Mahatma Ghandi   \n",
       "1     2023-04-04  49.0   F   NEGATIVE         Bronchiectasis             NaN   \n",
       "2     2023-03-22  89.0   F   NEGATIVE  Acute gastroenteritis             NaN   \n",
       "3     2023-03-23  66.0   F   NEGATIVE                 Asthma             NaN   \n",
       "4     2023-03-24  35.0   F   NEGATIVE      Diabetes Mellitus             HDU   \n",
       "\n",
       "  SURVIVED DIED DEATH_TIME        OUTCOME DATE_OUTCOME  HOSPITAL_STAY  DOCTOR  \n",
       "0      YES   NO      ALIVE     DISCHARGED   2023-04-13           11.0  Thomas  \n",
       "1      YES   NO      ALIVE  CARRY-FORWARD   2023-04-30           26.0  Thomas  \n",
       "2      YES   NO      ALIVE     DISCHARGED   2023-04-04           13.0  Thomas  \n",
       "3      YES   NO      ALIVE     DISCHARGED   2023-04-10           18.0  Thomas  \n",
       "4      YES   NO      ALIVE     DISCHARGED   2023-04-06           13.0  Thomas  "
      ]
     },
     "execution_count": 42,
     "metadata": {},
     "output_type": "execute_result"
    }
   ],
   "source": [
    "df21=df13.drop_duplicates()\n",
    "df21.head()"
   ]
  },
  {
   "cell_type": "markdown",
   "id": "21ab871d-9179-47d6-8f1c-3f767a90d7e1",
   "metadata": {},
   "source": [
    "###DEALING WITH MISSING DATA"
   ]
  },
  {
   "cell_type": "markdown",
   "id": "8d32dba7-5259-44a1-b347-ec3ef739b257",
   "metadata": {},
   "source": [
    "####CHECKING THE NUMBER OF MISSING DATA PER COLUMN OR VARIABLE"
   ]
  },
  {
   "cell_type": "code",
   "execution_count": 46,
   "id": "a057f0fd-3d10-405c-ada6-16713133a5ef",
   "metadata": {},
   "outputs": [
    {
     "name": "stdout",
     "output_type": "stream",
     "text": [
      "DATE_ADMISSION      0\n",
      "AGE                26\n",
      "SEX                 6\n",
      "HIV_STATUS         69\n",
      "DIAGNOSIS          16\n",
      "REFCLINIC         145\n",
      "SURVIVED           16\n",
      "DIED               13\n",
      "DEATH_TIME          0\n",
      "OUTCOME             6\n",
      "DATE_OUTCOME       31\n",
      "HOSPITAL_STAY      31\n",
      "DOCTOR              0\n",
      "dtype: int64\n"
     ]
    }
   ],
   "source": [
    "print(df21.isnull().sum())"
   ]
  },
  {
   "cell_type": "markdown",
   "id": "f6bdea4c-c643-4122-b53c-be7c072fe9e2",
   "metadata": {},
   "source": [
    "####CHECKING THE PERCENTAGE OF MISSING DATA PER COLUMN OR VARIABLE"
   ]
  },
  {
   "cell_type": "code",
   "execution_count": 49,
   "id": "7ff39475-ba92-4442-936e-9726d784350d",
   "metadata": {},
   "outputs": [
    {
     "data": {
      "text/plain": [
       "DATE_ADMISSION     0.000000\n",
       "AGE                4.980843\n",
       "SEX                1.149425\n",
       "HIV_STATUS        13.218391\n",
       "DIAGNOSIS          3.065134\n",
       "REFCLINIC         27.777778\n",
       "SURVIVED           3.065134\n",
       "DIED               2.490421\n",
       "DEATH_TIME         0.000000\n",
       "OUTCOME            1.149425\n",
       "DATE_OUTCOME       5.938697\n",
       "HOSPITAL_STAY      5.938697\n",
       "DOCTOR             0.000000\n",
       "dtype: float64"
      ]
     },
     "execution_count": 49,
     "metadata": {},
     "output_type": "execute_result"
    }
   ],
   "source": [
    "df21.isnull().sum()/df21.shape[0]*100"
   ]
  },
  {
   "cell_type": "markdown",
   "id": "dd417a7a-ad67-4cc8-9aa5-b7d9836b1279",
   "metadata": {},
   "source": [
    "####REPLACING MISSING CONTINUOUS DATA BY MEDIAN OR MEAN"
   ]
  },
  {
   "cell_type": "code",
   "execution_count": 52,
   "id": "a93e56d7-2f1c-4392-9ab6-5c6e402e9170",
   "metadata": {},
   "outputs": [
    {
     "data": {
      "text/html": [
       "<div>\n",
       "<style scoped>\n",
       "    .dataframe tbody tr th:only-of-type {\n",
       "        vertical-align: middle;\n",
       "    }\n",
       "\n",
       "    .dataframe tbody tr th {\n",
       "        vertical-align: top;\n",
       "    }\n",
       "\n",
       "    .dataframe thead th {\n",
       "        text-align: right;\n",
       "    }\n",
       "</style>\n",
       "<table border=\"1\" class=\"dataframe\">\n",
       "  <thead>\n",
       "    <tr style=\"text-align: right;\">\n",
       "      <th></th>\n",
       "      <th>DATE_ADMISSION</th>\n",
       "      <th>AGE</th>\n",
       "      <th>SEX</th>\n",
       "      <th>HIV_STATUS</th>\n",
       "      <th>DIAGNOSIS</th>\n",
       "      <th>REFCLINIC</th>\n",
       "      <th>SURVIVED</th>\n",
       "      <th>DIED</th>\n",
       "      <th>DEATH_TIME</th>\n",
       "      <th>OUTCOME</th>\n",
       "      <th>DATE_OUTCOME</th>\n",
       "      <th>HOSPITAL_STAY</th>\n",
       "      <th>DOCTOR</th>\n",
       "    </tr>\n",
       "  </thead>\n",
       "  <tbody>\n",
       "    <tr>\n",
       "      <th>0</th>\n",
       "      <td>2023-04-02</td>\n",
       "      <td>43.0</td>\n",
       "      <td>F</td>\n",
       "      <td>NaN</td>\n",
       "      <td>stroke</td>\n",
       "      <td>Mahatma Ghandi</td>\n",
       "      <td>YES</td>\n",
       "      <td>NO</td>\n",
       "      <td>ALIVE</td>\n",
       "      <td>DISCHARGED</td>\n",
       "      <td>2023-04-13</td>\n",
       "      <td>11.0</td>\n",
       "      <td>Thomas</td>\n",
       "    </tr>\n",
       "    <tr>\n",
       "      <th>1</th>\n",
       "      <td>2023-04-04</td>\n",
       "      <td>49.0</td>\n",
       "      <td>F</td>\n",
       "      <td>NEGATIVE</td>\n",
       "      <td>Bronchiectasis</td>\n",
       "      <td>NaN</td>\n",
       "      <td>YES</td>\n",
       "      <td>NO</td>\n",
       "      <td>ALIVE</td>\n",
       "      <td>CARRY-FORWARD</td>\n",
       "      <td>2023-04-30</td>\n",
       "      <td>26.0</td>\n",
       "      <td>Thomas</td>\n",
       "    </tr>\n",
       "    <tr>\n",
       "      <th>2</th>\n",
       "      <td>2023-03-22</td>\n",
       "      <td>89.0</td>\n",
       "      <td>F</td>\n",
       "      <td>NEGATIVE</td>\n",
       "      <td>Acute gastroenteritis</td>\n",
       "      <td>NaN</td>\n",
       "      <td>YES</td>\n",
       "      <td>NO</td>\n",
       "      <td>ALIVE</td>\n",
       "      <td>DISCHARGED</td>\n",
       "      <td>2023-04-04</td>\n",
       "      <td>13.0</td>\n",
       "      <td>Thomas</td>\n",
       "    </tr>\n",
       "    <tr>\n",
       "      <th>3</th>\n",
       "      <td>2023-03-23</td>\n",
       "      <td>66.0</td>\n",
       "      <td>F</td>\n",
       "      <td>NEGATIVE</td>\n",
       "      <td>Asthma</td>\n",
       "      <td>NaN</td>\n",
       "      <td>YES</td>\n",
       "      <td>NO</td>\n",
       "      <td>ALIVE</td>\n",
       "      <td>DISCHARGED</td>\n",
       "      <td>2023-04-10</td>\n",
       "      <td>18.0</td>\n",
       "      <td>Thomas</td>\n",
       "    </tr>\n",
       "    <tr>\n",
       "      <th>4</th>\n",
       "      <td>2023-03-24</td>\n",
       "      <td>35.0</td>\n",
       "      <td>F</td>\n",
       "      <td>NEGATIVE</td>\n",
       "      <td>Diabetes Mellitus</td>\n",
       "      <td>HDU</td>\n",
       "      <td>YES</td>\n",
       "      <td>NO</td>\n",
       "      <td>ALIVE</td>\n",
       "      <td>DISCHARGED</td>\n",
       "      <td>2023-04-06</td>\n",
       "      <td>13.0</td>\n",
       "      <td>Thomas</td>\n",
       "    </tr>\n",
       "  </tbody>\n",
       "</table>\n",
       "</div>"
      ],
      "text/plain": [
       "  DATE_ADMISSION   AGE SEX HIV_STATUS              DIAGNOSIS       REFCLINIC  \\\n",
       "0     2023-04-02  43.0   F        NaN                 stroke  Mahatma Ghandi   \n",
       "1     2023-04-04  49.0   F   NEGATIVE         Bronchiectasis             NaN   \n",
       "2     2023-03-22  89.0   F   NEGATIVE  Acute gastroenteritis             NaN   \n",
       "3     2023-03-23  66.0   F   NEGATIVE                 Asthma             NaN   \n",
       "4     2023-03-24  35.0   F   NEGATIVE      Diabetes Mellitus             HDU   \n",
       "\n",
       "  SURVIVED DIED DEATH_TIME        OUTCOME DATE_OUTCOME  HOSPITAL_STAY  DOCTOR  \n",
       "0      YES   NO      ALIVE     DISCHARGED   2023-04-13           11.0  Thomas  \n",
       "1      YES   NO      ALIVE  CARRY-FORWARD   2023-04-30           26.0  Thomas  \n",
       "2      YES   NO      ALIVE     DISCHARGED   2023-04-04           13.0  Thomas  \n",
       "3      YES   NO      ALIVE     DISCHARGED   2023-04-10           18.0  Thomas  \n",
       "4      YES   NO      ALIVE     DISCHARGED   2023-04-06           13.0  Thomas  "
      ]
     },
     "execution_count": 52,
     "metadata": {},
     "output_type": "execute_result"
    }
   ],
   "source": [
    "df21['AGE'].fillna(df21['AGE'].median(), inplace=True)\n",
    "df21.head()"
   ]
  },
  {
   "cell_type": "markdown",
   "id": "ef3c961a-8d8b-416f-8445-9b9b9c6558c4",
   "metadata": {},
   "source": [
    "####REPLACING MISSING CONTINUOUS DATA BY MEDIAN OR MEAN"
   ]
  },
  {
   "cell_type": "code",
   "execution_count": 55,
   "id": "7cb0013e-db20-40e7-a709-854a12715210",
   "metadata": {},
   "outputs": [
    {
     "data": {
      "text/html": [
       "<div>\n",
       "<style scoped>\n",
       "    .dataframe tbody tr th:only-of-type {\n",
       "        vertical-align: middle;\n",
       "    }\n",
       "\n",
       "    .dataframe tbody tr th {\n",
       "        vertical-align: top;\n",
       "    }\n",
       "\n",
       "    .dataframe thead th {\n",
       "        text-align: right;\n",
       "    }\n",
       "</style>\n",
       "<table border=\"1\" class=\"dataframe\">\n",
       "  <thead>\n",
       "    <tr style=\"text-align: right;\">\n",
       "      <th></th>\n",
       "      <th>DATE_ADMISSION</th>\n",
       "      <th>AGE</th>\n",
       "      <th>SEX</th>\n",
       "      <th>HIV_STATUS</th>\n",
       "      <th>DIAGNOSIS</th>\n",
       "      <th>REFCLINIC</th>\n",
       "      <th>SURVIVED</th>\n",
       "      <th>DIED</th>\n",
       "      <th>DEATH_TIME</th>\n",
       "      <th>OUTCOME</th>\n",
       "      <th>DATE_OUTCOME</th>\n",
       "      <th>HOSPITAL_STAY</th>\n",
       "      <th>DOCTOR</th>\n",
       "    </tr>\n",
       "  </thead>\n",
       "  <tbody>\n",
       "    <tr>\n",
       "      <th>0</th>\n",
       "      <td>2023-04-02</td>\n",
       "      <td>43.0</td>\n",
       "      <td>F</td>\n",
       "      <td>NaN</td>\n",
       "      <td>stroke</td>\n",
       "      <td>Mahatma Ghandi</td>\n",
       "      <td>YES</td>\n",
       "      <td>NO</td>\n",
       "      <td>ALIVE</td>\n",
       "      <td>DISCHARGED</td>\n",
       "      <td>2023-04-13</td>\n",
       "      <td>11.0</td>\n",
       "      <td>Thomas</td>\n",
       "    </tr>\n",
       "    <tr>\n",
       "      <th>1</th>\n",
       "      <td>2023-04-04</td>\n",
       "      <td>49.0</td>\n",
       "      <td>F</td>\n",
       "      <td>NEGATIVE</td>\n",
       "      <td>Bronchiectasis</td>\n",
       "      <td>NaN</td>\n",
       "      <td>YES</td>\n",
       "      <td>NO</td>\n",
       "      <td>ALIVE</td>\n",
       "      <td>CARRY-FORWARD</td>\n",
       "      <td>2023-04-30</td>\n",
       "      <td>26.0</td>\n",
       "      <td>Thomas</td>\n",
       "    </tr>\n",
       "    <tr>\n",
       "      <th>2</th>\n",
       "      <td>2023-03-22</td>\n",
       "      <td>89.0</td>\n",
       "      <td>F</td>\n",
       "      <td>NEGATIVE</td>\n",
       "      <td>Acute gastroenteritis</td>\n",
       "      <td>NaN</td>\n",
       "      <td>YES</td>\n",
       "      <td>NO</td>\n",
       "      <td>ALIVE</td>\n",
       "      <td>DISCHARGED</td>\n",
       "      <td>2023-04-04</td>\n",
       "      <td>13.0</td>\n",
       "      <td>Thomas</td>\n",
       "    </tr>\n",
       "    <tr>\n",
       "      <th>3</th>\n",
       "      <td>2023-03-23</td>\n",
       "      <td>66.0</td>\n",
       "      <td>F</td>\n",
       "      <td>NEGATIVE</td>\n",
       "      <td>Asthma</td>\n",
       "      <td>NaN</td>\n",
       "      <td>YES</td>\n",
       "      <td>NO</td>\n",
       "      <td>ALIVE</td>\n",
       "      <td>DISCHARGED</td>\n",
       "      <td>2023-04-10</td>\n",
       "      <td>18.0</td>\n",
       "      <td>Thomas</td>\n",
       "    </tr>\n",
       "    <tr>\n",
       "      <th>4</th>\n",
       "      <td>2023-03-24</td>\n",
       "      <td>35.0</td>\n",
       "      <td>F</td>\n",
       "      <td>NEGATIVE</td>\n",
       "      <td>Diabetes Mellitus</td>\n",
       "      <td>HDU</td>\n",
       "      <td>YES</td>\n",
       "      <td>NO</td>\n",
       "      <td>ALIVE</td>\n",
       "      <td>DISCHARGED</td>\n",
       "      <td>2023-04-06</td>\n",
       "      <td>13.0</td>\n",
       "      <td>Thomas</td>\n",
       "    </tr>\n",
       "  </tbody>\n",
       "</table>\n",
       "</div>"
      ],
      "text/plain": [
       "  DATE_ADMISSION   AGE SEX HIV_STATUS              DIAGNOSIS       REFCLINIC  \\\n",
       "0     2023-04-02  43.0   F        NaN                 stroke  Mahatma Ghandi   \n",
       "1     2023-04-04  49.0   F   NEGATIVE         Bronchiectasis             NaN   \n",
       "2     2023-03-22  89.0   F   NEGATIVE  Acute gastroenteritis             NaN   \n",
       "3     2023-03-23  66.0   F   NEGATIVE                 Asthma             NaN   \n",
       "4     2023-03-24  35.0   F   NEGATIVE      Diabetes Mellitus             HDU   \n",
       "\n",
       "  SURVIVED DIED DEATH_TIME        OUTCOME DATE_OUTCOME  HOSPITAL_STAY  DOCTOR  \n",
       "0      YES   NO      ALIVE     DISCHARGED   2023-04-13           11.0  Thomas  \n",
       "1      YES   NO      ALIVE  CARRY-FORWARD   2023-04-30           26.0  Thomas  \n",
       "2      YES   NO      ALIVE     DISCHARGED   2023-04-04           13.0  Thomas  \n",
       "3      YES   NO      ALIVE     DISCHARGED   2023-04-10           18.0  Thomas  \n",
       "4      YES   NO      ALIVE     DISCHARGED   2023-04-06           13.0  Thomas  "
      ]
     },
     "execution_count": 55,
     "metadata": {},
     "output_type": "execute_result"
    }
   ],
   "source": [
    "df21['HOSPITAL_STAY'].fillna(df21['HOSPITAL_STAY'].median(), inplace=True) \n",
    "df21.head()  ## or print(df21)"
   ]
  },
  {
   "cell_type": "markdown",
   "id": "29739416-5a4c-4904-a714-8305858ec1fb",
   "metadata": {},
   "source": [
    "####REPLACING MISSING CATEGORICAL DATA BY MODE"
   ]
  },
  {
   "cell_type": "code",
   "execution_count": 58,
   "id": "986a7f0f-5ac2-4e79-ad94-7e95c2dddd20",
   "metadata": {},
   "outputs": [
    {
     "name": "stdout",
     "output_type": "stream",
     "text": [
      "F\n"
     ]
    }
   ],
   "source": [
    "mode_val = df21['SEX'].mode()[0]  # Calculate mode\n",
    "print(mode_val)"
   ]
  },
  {
   "cell_type": "code",
   "execution_count": 60,
   "id": "0a25e47d-5e38-4b73-a528-7165a6cd1990",
   "metadata": {},
   "outputs": [
    {
     "name": "stdout",
     "output_type": "stream",
     "text": [
      "None\n"
     ]
    }
   ],
   "source": [
    "df22=df21['SEX'].fillna(mode_val, inplace=True)  \n",
    "print(df22)"
   ]
  },
  {
   "cell_type": "markdown",
   "id": "614e89ad-db81-4459-a40c-a7d4fc325ffc",
   "metadata": {},
   "source": [
    "Verify DataFrame size"
   ]
  },
  {
   "cell_type": "code",
   "execution_count": 63,
   "id": "54d11618-f8d7-484c-9d3c-8221e36d92c3",
   "metadata": {},
   "outputs": [
    {
     "data": {
      "text/plain": [
       "(522, 13)"
      ]
     },
     "execution_count": 63,
     "metadata": {},
     "output_type": "execute_result"
    }
   ],
   "source": [
    "df21.shape  # since df22 is None, therefore continue using 21 in stead of 22"
   ]
  },
  {
   "cell_type": "markdown",
   "id": "d4096dc6-2a42-4c93-9f36-8449a776a6c7",
   "metadata": {},
   "source": [
    "####DELETE MISSING DATA"
   ]
  },
  {
   "cell_type": "code",
   "execution_count": 66,
   "id": "b67b6efe-b423-4a6e-a6bd-54be90ced167",
   "metadata": {},
   "outputs": [],
   "source": [
    "#No missing data to delete at this level"
   ]
  },
  {
   "cell_type": "markdown",
   "id": "20894e91-61de-4c2a-8e39-bfe121b8e60b",
   "metadata": {},
   "source": [
    "###DROPPING UNWANTED DATA FOR THE CURRENT RESEARCH QUESTION"
   ]
  },
  {
   "cell_type": "code",
   "execution_count": 69,
   "id": "295d2dcb-b6d2-4dd3-ab22-0490ed951d9e",
   "metadata": {},
   "outputs": [
    {
     "data": {
      "text/html": [
       "<div>\n",
       "<style scoped>\n",
       "    .dataframe tbody tr th:only-of-type {\n",
       "        vertical-align: middle;\n",
       "    }\n",
       "\n",
       "    .dataframe tbody tr th {\n",
       "        vertical-align: top;\n",
       "    }\n",
       "\n",
       "    .dataframe thead th {\n",
       "        text-align: right;\n",
       "    }\n",
       "</style>\n",
       "<table border=\"1\" class=\"dataframe\">\n",
       "  <thead>\n",
       "    <tr style=\"text-align: right;\">\n",
       "      <th></th>\n",
       "      <th>AGE</th>\n",
       "      <th>SEX</th>\n",
       "      <th>HOSPITAL_STAY</th>\n",
       "    </tr>\n",
       "  </thead>\n",
       "  <tbody>\n",
       "    <tr>\n",
       "      <th>0</th>\n",
       "      <td>43.0</td>\n",
       "      <td>F</td>\n",
       "      <td>11.0</td>\n",
       "    </tr>\n",
       "    <tr>\n",
       "      <th>1</th>\n",
       "      <td>49.0</td>\n",
       "      <td>F</td>\n",
       "      <td>26.0</td>\n",
       "    </tr>\n",
       "    <tr>\n",
       "      <th>2</th>\n",
       "      <td>89.0</td>\n",
       "      <td>F</td>\n",
       "      <td>13.0</td>\n",
       "    </tr>\n",
       "    <tr>\n",
       "      <th>3</th>\n",
       "      <td>66.0</td>\n",
       "      <td>F</td>\n",
       "      <td>18.0</td>\n",
       "    </tr>\n",
       "    <tr>\n",
       "      <th>4</th>\n",
       "      <td>35.0</td>\n",
       "      <td>F</td>\n",
       "      <td>13.0</td>\n",
       "    </tr>\n",
       "  </tbody>\n",
       "</table>\n",
       "</div>"
      ],
      "text/plain": [
       "    AGE SEX  HOSPITAL_STAY\n",
       "0  43.0   F           11.0\n",
       "1  49.0   F           26.0\n",
       "2  89.0   F           13.0\n",
       "3  66.0   F           18.0\n",
       "4  35.0   F           13.0"
      ]
     },
     "execution_count": 69,
     "metadata": {},
     "output_type": "execute_result"
    }
   ],
   "source": [
    "df23 = df21.drop(columns=['DATE_ADMISSION','HIV_STATUS','REFCLINIC','SURVIVED','DIED','DEATH_TIME','OUTCOME','DATE_OUTCOME','DOCTOR','DIAGNOSIS'])\n",
    "df23.head()"
   ]
  },
  {
   "cell_type": "code",
   "execution_count": null,
   "id": "29833882-f3f7-470e-8825-3e9f51b98135",
   "metadata": {},
   "outputs": [],
   "source": []
  },
  {
   "cell_type": "markdown",
   "id": "d3a1b810-625f-4139-b5cb-861f1ee5eeef",
   "metadata": {},
   "source": [
    "##DATA MANIPULATION"
   ]
  },
  {
   "cell_type": "markdown",
   "id": "cfc6ef7a-2aaa-47e6-af78-0db0b4495bfc",
   "metadata": {},
   "source": [
    "###RENAMING COLUMNS"
   ]
  },
  {
   "cell_type": "markdown",
   "id": "d2c41114-6c61-4a43-8964-42420599906c",
   "metadata": {},
   "source": [
    "#####CREATE A COPY OF EXISTING DATAFRAME"
   ]
  },
  {
   "cell_type": "code",
   "execution_count": 75,
   "id": "80d0626a-6e2b-4429-a46a-f087b0f48e0d",
   "metadata": {},
   "outputs": [
    {
     "data": {
      "text/html": [
       "<div>\n",
       "<style scoped>\n",
       "    .dataframe tbody tr th:only-of-type {\n",
       "        vertical-align: middle;\n",
       "    }\n",
       "\n",
       "    .dataframe tbody tr th {\n",
       "        vertical-align: top;\n",
       "    }\n",
       "\n",
       "    .dataframe thead th {\n",
       "        text-align: right;\n",
       "    }\n",
       "</style>\n",
       "<table border=\"1\" class=\"dataframe\">\n",
       "  <thead>\n",
       "    <tr style=\"text-align: right;\">\n",
       "      <th></th>\n",
       "      <th>AGE</th>\n",
       "      <th>SEX</th>\n",
       "      <th>HOSPITAL_STAY</th>\n",
       "    </tr>\n",
       "  </thead>\n",
       "  <tbody>\n",
       "    <tr>\n",
       "      <th>0</th>\n",
       "      <td>43.0</td>\n",
       "      <td>F</td>\n",
       "      <td>11.0</td>\n",
       "    </tr>\n",
       "    <tr>\n",
       "      <th>1</th>\n",
       "      <td>49.0</td>\n",
       "      <td>F</td>\n",
       "      <td>26.0</td>\n",
       "    </tr>\n",
       "    <tr>\n",
       "      <th>2</th>\n",
       "      <td>89.0</td>\n",
       "      <td>F</td>\n",
       "      <td>13.0</td>\n",
       "    </tr>\n",
       "    <tr>\n",
       "      <th>3</th>\n",
       "      <td>66.0</td>\n",
       "      <td>F</td>\n",
       "      <td>18.0</td>\n",
       "    </tr>\n",
       "    <tr>\n",
       "      <th>4</th>\n",
       "      <td>35.0</td>\n",
       "      <td>F</td>\n",
       "      <td>13.0</td>\n",
       "    </tr>\n",
       "  </tbody>\n",
       "</table>\n",
       "</div>"
      ],
      "text/plain": [
       "    AGE SEX  HOSPITAL_STAY\n",
       "0  43.0   F           11.0\n",
       "1  49.0   F           26.0\n",
       "2  89.0   F           13.0\n",
       "3  66.0   F           18.0\n",
       "4  35.0   F           13.0"
      ]
     },
     "execution_count": 75,
     "metadata": {},
     "output_type": "execute_result"
    }
   ],
   "source": [
    "df24=df23.copy()\n",
    "df24.head()"
   ]
  },
  {
   "cell_type": "markdown",
   "id": "7ddc2ec1-78d6-4a09-84e7-0518a154a320",
   "metadata": {},
   "source": [
    "#####RENAME COLUMNS IN DETAILS"
   ]
  },
  {
   "cell_type": "code",
   "execution_count": 78,
   "id": "3b044960-d735-4f80-808e-7151f3f9a118",
   "metadata": {},
   "outputs": [
    {
     "data": {
      "text/html": [
       "<div>\n",
       "<style scoped>\n",
       "    .dataframe tbody tr th:only-of-type {\n",
       "        vertical-align: middle;\n",
       "    }\n",
       "\n",
       "    .dataframe tbody tr th {\n",
       "        vertical-align: top;\n",
       "    }\n",
       "\n",
       "    .dataframe thead th {\n",
       "        text-align: right;\n",
       "    }\n",
       "</style>\n",
       "<table border=\"1\" class=\"dataframe\">\n",
       "  <thead>\n",
       "    <tr style=\"text-align: right;\">\n",
       "      <th></th>\n",
       "      <th>AGE</th>\n",
       "      <th>GENDER</th>\n",
       "      <th>LOS</th>\n",
       "    </tr>\n",
       "  </thead>\n",
       "  <tbody>\n",
       "    <tr>\n",
       "      <th>0</th>\n",
       "      <td>43.0</td>\n",
       "      <td>F</td>\n",
       "      <td>11.0</td>\n",
       "    </tr>\n",
       "    <tr>\n",
       "      <th>1</th>\n",
       "      <td>49.0</td>\n",
       "      <td>F</td>\n",
       "      <td>26.0</td>\n",
       "    </tr>\n",
       "    <tr>\n",
       "      <th>2</th>\n",
       "      <td>89.0</td>\n",
       "      <td>F</td>\n",
       "      <td>13.0</td>\n",
       "    </tr>\n",
       "    <tr>\n",
       "      <th>3</th>\n",
       "      <td>66.0</td>\n",
       "      <td>F</td>\n",
       "      <td>18.0</td>\n",
       "    </tr>\n",
       "    <tr>\n",
       "      <th>4</th>\n",
       "      <td>35.0</td>\n",
       "      <td>F</td>\n",
       "      <td>13.0</td>\n",
       "    </tr>\n",
       "  </tbody>\n",
       "</table>\n",
       "</div>"
      ],
      "text/plain": [
       "    AGE GENDER   LOS\n",
       "0  43.0      F  11.0\n",
       "1  49.0      F  26.0\n",
       "2  89.0      F  13.0\n",
       "3  66.0      F  18.0\n",
       "4  35.0      F  13.0"
      ]
     },
     "execution_count": 78,
     "metadata": {},
     "output_type": "execute_result"
    }
   ],
   "source": [
    "df24.rename(columns={'SEX':'GENDER','HOSPITAL_STAY':'LOS'},inplace=True)\n",
    "df24.head()"
   ]
  },
  {
   "cell_type": "markdown",
   "id": "b81314ee-080d-42a1-96a5-42ca31b82592",
   "metadata": {},
   "source": [
    "####CREATE A COPY OF EXISTING DATAFRAME"
   ]
  },
  {
   "cell_type": "code",
   "execution_count": 81,
   "id": "92cf4bc7-8696-4d8c-b732-22eddf7b3d2a",
   "metadata": {},
   "outputs": [
    {
     "data": {
      "text/html": [
       "<div>\n",
       "<style scoped>\n",
       "    .dataframe tbody tr th:only-of-type {\n",
       "        vertical-align: middle;\n",
       "    }\n",
       "\n",
       "    .dataframe tbody tr th {\n",
       "        vertical-align: top;\n",
       "    }\n",
       "\n",
       "    .dataframe thead th {\n",
       "        text-align: right;\n",
       "    }\n",
       "</style>\n",
       "<table border=\"1\" class=\"dataframe\">\n",
       "  <thead>\n",
       "    <tr style=\"text-align: right;\">\n",
       "      <th></th>\n",
       "      <th>AGE</th>\n",
       "      <th>GENDER</th>\n",
       "      <th>LOS</th>\n",
       "    </tr>\n",
       "  </thead>\n",
       "  <tbody>\n",
       "    <tr>\n",
       "      <th>0</th>\n",
       "      <td>43.0</td>\n",
       "      <td>F</td>\n",
       "      <td>11.0</td>\n",
       "    </tr>\n",
       "    <tr>\n",
       "      <th>1</th>\n",
       "      <td>49.0</td>\n",
       "      <td>F</td>\n",
       "      <td>26.0</td>\n",
       "    </tr>\n",
       "    <tr>\n",
       "      <th>2</th>\n",
       "      <td>89.0</td>\n",
       "      <td>F</td>\n",
       "      <td>13.0</td>\n",
       "    </tr>\n",
       "    <tr>\n",
       "      <th>3</th>\n",
       "      <td>66.0</td>\n",
       "      <td>F</td>\n",
       "      <td>18.0</td>\n",
       "    </tr>\n",
       "    <tr>\n",
       "      <th>4</th>\n",
       "      <td>35.0</td>\n",
       "      <td>F</td>\n",
       "      <td>13.0</td>\n",
       "    </tr>\n",
       "  </tbody>\n",
       "</table>\n",
       "</div>"
      ],
      "text/plain": [
       "    AGE GENDER   LOS\n",
       "0  43.0      F  11.0\n",
       "1  49.0      F  26.0\n",
       "2  89.0      F  13.0\n",
       "3  66.0      F  18.0\n",
       "4  35.0      F  13.0"
      ]
     },
     "execution_count": 81,
     "metadata": {},
     "output_type": "execute_result"
    }
   ],
   "source": [
    "df25=df24.copy()\n",
    "df25.head()"
   ]
  },
  {
   "cell_type": "markdown",
   "id": "a17b0469-65b7-4c27-bd7f-aceeb04cbf2d",
   "metadata": {},
   "source": [
    "####RENAMING ROWS"
   ]
  },
  {
   "cell_type": "code",
   "execution_count": 84,
   "id": "09a43f60-f44b-47ba-be53-a1a47faf4273",
   "metadata": {},
   "outputs": [
    {
     "data": {
      "text/html": [
       "<div>\n",
       "<style scoped>\n",
       "    .dataframe tbody tr th:only-of-type {\n",
       "        vertical-align: middle;\n",
       "    }\n",
       "\n",
       "    .dataframe tbody tr th {\n",
       "        vertical-align: top;\n",
       "    }\n",
       "\n",
       "    .dataframe thead th {\n",
       "        text-align: right;\n",
       "    }\n",
       "</style>\n",
       "<table border=\"1\" class=\"dataframe\">\n",
       "  <thead>\n",
       "    <tr style=\"text-align: right;\">\n",
       "      <th></th>\n",
       "      <th>AGE</th>\n",
       "      <th>GENDER</th>\n",
       "      <th>LOS</th>\n",
       "    </tr>\n",
       "  </thead>\n",
       "  <tbody>\n",
       "    <tr>\n",
       "      <th>0</th>\n",
       "      <td>43.0</td>\n",
       "      <td>F</td>\n",
       "      <td>11.0</td>\n",
       "    </tr>\n",
       "    <tr>\n",
       "      <th>1</th>\n",
       "      <td>49.0</td>\n",
       "      <td>F</td>\n",
       "      <td>26.0</td>\n",
       "    </tr>\n",
       "    <tr>\n",
       "      <th>2</th>\n",
       "      <td>89.0</td>\n",
       "      <td>F</td>\n",
       "      <td>13.0</td>\n",
       "    </tr>\n",
       "    <tr>\n",
       "      <th>3</th>\n",
       "      <td>66.0</td>\n",
       "      <td>F</td>\n",
       "      <td>18.0</td>\n",
       "    </tr>\n",
       "    <tr>\n",
       "      <th>4</th>\n",
       "      <td>35.0</td>\n",
       "      <td>F</td>\n",
       "      <td>13.0</td>\n",
       "    </tr>\n",
       "  </tbody>\n",
       "</table>\n",
       "</div>"
      ],
      "text/plain": [
       "    AGE GENDER   LOS\n",
       "0  43.0      F  11.0\n",
       "1  49.0      F  26.0\n",
       "2  89.0      F  13.0\n",
       "3  66.0      F  18.0\n",
       "4  35.0      F  13.0"
      ]
     },
     "execution_count": 84,
     "metadata": {},
     "output_type": "execute_result"
    }
   ],
   "source": [
    "df25.head()"
   ]
  },
  {
   "cell_type": "code",
   "execution_count": 86,
   "id": "32f30481-6ec3-4955-80d4-a185e01075ad",
   "metadata": {},
   "outputs": [],
   "source": [
    "#No need to rename rows"
   ]
  },
  {
   "cell_type": "markdown",
   "id": "005b2688-07d3-4e47-aa9e-8e58d80edbe9",
   "metadata": {},
   "source": [
    "###CHANGING DATA TYPE"
   ]
  },
  {
   "cell_type": "code",
   "execution_count": 89,
   "id": "18b68fd7-af45-4227-a59f-91736f2ea853",
   "metadata": {},
   "outputs": [
    {
     "data": {
      "text/plain": [
       "Index(['AGE', 'GENDER', 'LOS'], dtype='object')"
      ]
     },
     "execution_count": 89,
     "metadata": {},
     "output_type": "execute_result"
    }
   ],
   "source": [
    "df25.columns"
   ]
  },
  {
   "cell_type": "code",
   "execution_count": 91,
   "id": "9cc82658-a9e6-4e3d-b72b-4b88f9d3221a",
   "metadata": {},
   "outputs": [
    {
     "data": {
      "text/plain": [
       "AGE       float64\n",
       "GENDER     object\n",
       "LOS       float64\n",
       "dtype: object"
      ]
     },
     "execution_count": 91,
     "metadata": {},
     "output_type": "execute_result"
    }
   ],
   "source": [
    "df25.dtypes"
   ]
  },
  {
   "cell_type": "code",
   "execution_count": 93,
   "id": "5cc36cc1-18cf-452a-975c-863f78ac88f5",
   "metadata": {},
   "outputs": [],
   "source": [
    "#there is no need to change variable types"
   ]
  },
  {
   "cell_type": "code",
   "execution_count": null,
   "id": "bb47f0e8-641c-4f39-9b12-714548994aa0",
   "metadata": {},
   "outputs": [],
   "source": []
  },
  {
   "cell_type": "markdown",
   "id": "8b41f98b-a84a-4294-9683-6ed2aed13dec",
   "metadata": {},
   "source": [
    "##DATA EXPLORATORY ANALYSIS"
   ]
  },
  {
   "cell_type": "code",
   "execution_count": 97,
   "id": "24d9d4e4-04b7-4a92-b352-c1bb291295e4",
   "metadata": {},
   "outputs": [
    {
     "name": "stdout",
     "output_type": "stream",
     "text": [
      "<class 'pandas.core.frame.DataFrame'>\n",
      "Index: 522 entries, 0 to 526\n",
      "Data columns (total 3 columns):\n",
      " #   Column  Non-Null Count  Dtype  \n",
      "---  ------  --------------  -----  \n",
      " 0   AGE     522 non-null    float64\n",
      " 1   GENDER  522 non-null    object \n",
      " 2   LOS     522 non-null    float64\n",
      "dtypes: float64(2), object(1)\n",
      "memory usage: 16.3+ KB\n"
     ]
    }
   ],
   "source": [
    "df25.info()"
   ]
  },
  {
   "cell_type": "code",
   "execution_count": null,
   "id": "79d261fa-f361-4288-95d2-02cc748f78d2",
   "metadata": {},
   "outputs": [],
   "source": []
  },
  {
   "cell_type": "code",
   "execution_count": 100,
   "id": "04bdb7fa-2e31-4894-98ae-d3e49d9a6680",
   "metadata": {},
   "outputs": [
    {
     "data": {
      "text/html": [
       "<div>\n",
       "<style scoped>\n",
       "    .dataframe tbody tr th:only-of-type {\n",
       "        vertical-align: middle;\n",
       "    }\n",
       "\n",
       "    .dataframe tbody tr th {\n",
       "        vertical-align: top;\n",
       "    }\n",
       "\n",
       "    .dataframe thead th {\n",
       "        text-align: right;\n",
       "    }\n",
       "</style>\n",
       "<table border=\"1\" class=\"dataframe\">\n",
       "  <thead>\n",
       "    <tr style=\"text-align: right;\">\n",
       "      <th></th>\n",
       "      <th>AGE</th>\n",
       "      <th>LOS</th>\n",
       "    </tr>\n",
       "  </thead>\n",
       "  <tbody>\n",
       "    <tr>\n",
       "      <th>count</th>\n",
       "      <td>522.000000</td>\n",
       "      <td>522.000000</td>\n",
       "    </tr>\n",
       "    <tr>\n",
       "      <th>mean</th>\n",
       "      <td>46.143678</td>\n",
       "      <td>5.555556</td>\n",
       "    </tr>\n",
       "    <tr>\n",
       "      <th>std</th>\n",
       "      <td>18.205493</td>\n",
       "      <td>8.388010</td>\n",
       "    </tr>\n",
       "    <tr>\n",
       "      <th>min</th>\n",
       "      <td>16.000000</td>\n",
       "      <td>0.000000</td>\n",
       "    </tr>\n",
       "    <tr>\n",
       "      <th>25%</th>\n",
       "      <td>33.000000</td>\n",
       "      <td>1.000000</td>\n",
       "    </tr>\n",
       "    <tr>\n",
       "      <th>50%</th>\n",
       "      <td>43.000000</td>\n",
       "      <td>3.000000</td>\n",
       "    </tr>\n",
       "    <tr>\n",
       "      <th>75%</th>\n",
       "      <td>58.750000</td>\n",
       "      <td>6.000000</td>\n",
       "    </tr>\n",
       "    <tr>\n",
       "      <th>max</th>\n",
       "      <td>100.000000</td>\n",
       "      <td>78.000000</td>\n",
       "    </tr>\n",
       "  </tbody>\n",
       "</table>\n",
       "</div>"
      ],
      "text/plain": [
       "              AGE         LOS\n",
       "count  522.000000  522.000000\n",
       "mean    46.143678    5.555556\n",
       "std     18.205493    8.388010\n",
       "min     16.000000    0.000000\n",
       "25%     33.000000    1.000000\n",
       "50%     43.000000    3.000000\n",
       "75%     58.750000    6.000000\n",
       "max    100.000000   78.000000"
      ]
     },
     "execution_count": 100,
     "metadata": {},
     "output_type": "execute_result"
    }
   ],
   "source": [
    "df25.describe(include='float')"
   ]
  },
  {
   "cell_type": "code",
   "execution_count": 102,
   "id": "66ddc564-aedd-4936-9bcf-b1d9888e2baf",
   "metadata": {},
   "outputs": [
    {
     "data": {
      "text/html": [
       "<div>\n",
       "<style scoped>\n",
       "    .dataframe tbody tr th:only-of-type {\n",
       "        vertical-align: middle;\n",
       "    }\n",
       "\n",
       "    .dataframe tbody tr th {\n",
       "        vertical-align: top;\n",
       "    }\n",
       "\n",
       "    .dataframe thead th {\n",
       "        text-align: right;\n",
       "    }\n",
       "</style>\n",
       "<table border=\"1\" class=\"dataframe\">\n",
       "  <thead>\n",
       "    <tr style=\"text-align: right;\">\n",
       "      <th></th>\n",
       "      <th>GENDER</th>\n",
       "    </tr>\n",
       "  </thead>\n",
       "  <tbody>\n",
       "    <tr>\n",
       "      <th>count</th>\n",
       "      <td>522</td>\n",
       "    </tr>\n",
       "    <tr>\n",
       "      <th>unique</th>\n",
       "      <td>2</td>\n",
       "    </tr>\n",
       "    <tr>\n",
       "      <th>top</th>\n",
       "      <td>F</td>\n",
       "    </tr>\n",
       "    <tr>\n",
       "      <th>freq</th>\n",
       "      <td>266</td>\n",
       "    </tr>\n",
       "  </tbody>\n",
       "</table>\n",
       "</div>"
      ],
      "text/plain": [
       "       GENDER\n",
       "count     522\n",
       "unique      2\n",
       "top         F\n",
       "freq      266"
      ]
     },
     "execution_count": 102,
     "metadata": {},
     "output_type": "execute_result"
    }
   ],
   "source": [
    "df25.describe(include='object')"
   ]
  },
  {
   "cell_type": "code",
   "execution_count": 104,
   "id": "dfb6c446-d3a8-4ce3-be4e-ae4d79f99070",
   "metadata": {},
   "outputs": [
    {
     "data": {
      "text/plain": [
       "array(['F', 'M'], dtype=object)"
      ]
     },
     "execution_count": 104,
     "metadata": {},
     "output_type": "execute_result"
    }
   ],
   "source": [
    "df25.GENDER.unique()"
   ]
  },
  {
   "cell_type": "code",
   "execution_count": 106,
   "id": "d43e6703-0751-48d6-9055-2f87bc6ae1f9",
   "metadata": {},
   "outputs": [
    {
     "data": {
      "text/plain": [
       "GENDER\n",
       "F    266\n",
       "M    256\n",
       "Name: count, dtype: int64"
      ]
     },
     "execution_count": 106,
     "metadata": {},
     "output_type": "execute_result"
    }
   ],
   "source": [
    " df25['GENDER'].value_counts()"
   ]
  },
  {
   "cell_type": "markdown",
   "id": "c56ec3e2-5b04-42db-8515-de76894a6a01",
   "metadata": {},
   "source": [
    "###SEPARATE DATA INTO TWO GROUPS BASED ON GENDER"
   ]
  },
  {
   "cell_type": "code",
   "execution_count": 109,
   "id": "5cc50382-cfb6-4e13-9ee6-3792c9057d43",
   "metadata": {},
   "outputs": [
    {
     "name": "stdout",
     "output_type": "stream",
     "text": [
      "Original DataFrame:\n",
      "      AGE GENDER   LOS\n",
      "0    43.0      F  11.0\n",
      "1    49.0      F  26.0\n",
      "2    89.0      F  13.0\n",
      "3    66.0      F  18.0\n",
      "4    35.0      F  13.0\n",
      "..    ...    ...   ...\n",
      "522  39.0      F   1.0\n",
      "523  70.0      F   1.0\n",
      "524  20.0      F   1.0\n",
      "525  58.0      F   1.0\n",
      "526  21.0      F   7.0\n",
      "\n",
      "[522 rows x 3 columns]\n",
      "\n",
      "Male DataFrame:\n",
      "      AGE GENDER   LOS\n",
      "81   71.0      M  42.0\n",
      "82   51.0      M   8.0\n",
      "83   81.0      M   2.0\n",
      "84   30.0      M   2.0\n",
      "86   41.0      M  11.0\n",
      "..    ...    ...   ...\n",
      "433  36.0      M   2.0\n",
      "434  72.0      M   1.0\n",
      "435  69.0      M   6.0\n",
      "436  40.0      M   0.0\n",
      "437  59.0      M   1.0\n",
      "\n",
      "[256 rows x 3 columns]\n",
      "\n",
      "Female DataFrame:\n",
      "      AGE GENDER   LOS\n",
      "0    43.0      F  11.0\n",
      "1    49.0      F  26.0\n",
      "2    89.0      F  13.0\n",
      "3    66.0      F  18.0\n",
      "4    35.0      F  13.0\n",
      "..    ...    ...   ...\n",
      "522  39.0      F   1.0\n",
      "523  70.0      F   1.0\n",
      "524  20.0      F   1.0\n",
      "525  58.0      F   1.0\n",
      "526  21.0      F   7.0\n",
      "\n",
      "[266 rows x 3 columns]\n"
     ]
    }
   ],
   "source": [
    "df25 \n",
    "\n",
    "# Display the initial DataFrame  \n",
    "print(\"Original DataFrame:\")  \n",
    "print(df25)  \n",
    "\n",
    "# Separate the data into two groups based on GENDER  \n",
    "df25_male = df25[df25['GENDER'] == 'M']  \n",
    "df25_female = df25[df25['GENDER'] == 'F']  \n",
    "\n",
    "# Display the separate DataFrames  \n",
    "print(\"\\nMale DataFrame:\")  \n",
    "print(df25_male)  \n",
    "print(\"\\nFemale DataFrame:\")  \n",
    "print(df25_female)"
   ]
  },
  {
   "cell_type": "code",
   "execution_count": 111,
   "id": "8e6453c6-630e-46fb-b00a-69de6276144e",
   "metadata": {},
   "outputs": [
    {
     "data": {
      "text/html": [
       "<div>\n",
       "<style scoped>\n",
       "    .dataframe tbody tr th:only-of-type {\n",
       "        vertical-align: middle;\n",
       "    }\n",
       "\n",
       "    .dataframe tbody tr th {\n",
       "        vertical-align: top;\n",
       "    }\n",
       "\n",
       "    .dataframe thead th {\n",
       "        text-align: right;\n",
       "    }\n",
       "</style>\n",
       "<table border=\"1\" class=\"dataframe\">\n",
       "  <thead>\n",
       "    <tr style=\"text-align: right;\">\n",
       "      <th></th>\n",
       "      <th>AGE</th>\n",
       "      <th>GENDER</th>\n",
       "      <th>LOS</th>\n",
       "    </tr>\n",
       "  </thead>\n",
       "  <tbody>\n",
       "    <tr>\n",
       "      <th>81</th>\n",
       "      <td>71.0</td>\n",
       "      <td>M</td>\n",
       "      <td>42.0</td>\n",
       "    </tr>\n",
       "    <tr>\n",
       "      <th>82</th>\n",
       "      <td>51.0</td>\n",
       "      <td>M</td>\n",
       "      <td>8.0</td>\n",
       "    </tr>\n",
       "    <tr>\n",
       "      <th>83</th>\n",
       "      <td>81.0</td>\n",
       "      <td>M</td>\n",
       "      <td>2.0</td>\n",
       "    </tr>\n",
       "    <tr>\n",
       "      <th>84</th>\n",
       "      <td>30.0</td>\n",
       "      <td>M</td>\n",
       "      <td>2.0</td>\n",
       "    </tr>\n",
       "    <tr>\n",
       "      <th>86</th>\n",
       "      <td>41.0</td>\n",
       "      <td>M</td>\n",
       "      <td>11.0</td>\n",
       "    </tr>\n",
       "  </tbody>\n",
       "</table>\n",
       "</div>"
      ],
      "text/plain": [
       "     AGE GENDER   LOS\n",
       "81  71.0      M  42.0\n",
       "82  51.0      M   8.0\n",
       "83  81.0      M   2.0\n",
       "84  30.0      M   2.0\n",
       "86  41.0      M  11.0"
      ]
     },
     "execution_count": 111,
     "metadata": {},
     "output_type": "execute_result"
    }
   ],
   "source": [
    "df25_male.head()"
   ]
  },
  {
   "cell_type": "code",
   "execution_count": 113,
   "id": "f4a24960-3141-4417-86c1-39f5a78f7411",
   "metadata": {},
   "outputs": [
    {
     "data": {
      "text/html": [
       "<div>\n",
       "<style scoped>\n",
       "    .dataframe tbody tr th:only-of-type {\n",
       "        vertical-align: middle;\n",
       "    }\n",
       "\n",
       "    .dataframe tbody tr th {\n",
       "        vertical-align: top;\n",
       "    }\n",
       "\n",
       "    .dataframe thead th {\n",
       "        text-align: right;\n",
       "    }\n",
       "</style>\n",
       "<table border=\"1\" class=\"dataframe\">\n",
       "  <thead>\n",
       "    <tr style=\"text-align: right;\">\n",
       "      <th></th>\n",
       "      <th>AGE</th>\n",
       "      <th>GENDER</th>\n",
       "      <th>LOS</th>\n",
       "    </tr>\n",
       "  </thead>\n",
       "  <tbody>\n",
       "    <tr>\n",
       "      <th>0</th>\n",
       "      <td>43.0</td>\n",
       "      <td>F</td>\n",
       "      <td>11.0</td>\n",
       "    </tr>\n",
       "    <tr>\n",
       "      <th>1</th>\n",
       "      <td>49.0</td>\n",
       "      <td>F</td>\n",
       "      <td>26.0</td>\n",
       "    </tr>\n",
       "    <tr>\n",
       "      <th>2</th>\n",
       "      <td>89.0</td>\n",
       "      <td>F</td>\n",
       "      <td>13.0</td>\n",
       "    </tr>\n",
       "    <tr>\n",
       "      <th>3</th>\n",
       "      <td>66.0</td>\n",
       "      <td>F</td>\n",
       "      <td>18.0</td>\n",
       "    </tr>\n",
       "    <tr>\n",
       "      <th>4</th>\n",
       "      <td>35.0</td>\n",
       "      <td>F</td>\n",
       "      <td>13.0</td>\n",
       "    </tr>\n",
       "  </tbody>\n",
       "</table>\n",
       "</div>"
      ],
      "text/plain": [
       "    AGE GENDER   LOS\n",
       "0  43.0      F  11.0\n",
       "1  49.0      F  26.0\n",
       "2  89.0      F  13.0\n",
       "3  66.0      F  18.0\n",
       "4  35.0      F  13.0"
      ]
     },
     "execution_count": 113,
     "metadata": {},
     "output_type": "execute_result"
    }
   ],
   "source": [
    "df25_female.head()"
   ]
  },
  {
   "cell_type": "code",
   "execution_count": null,
   "id": "0e8a6421-c6a2-4aea-867e-c2a30216bcf7",
   "metadata": {},
   "outputs": [],
   "source": []
  },
  {
   "cell_type": "markdown",
   "id": "db5b3ece-ec38-48e3-8cd0-bc0608e5d8a3",
   "metadata": {},
   "source": [
    "##DATA VISUALIZATION"
   ]
  },
  {
   "cell_type": "markdown",
   "id": "04f0e8a6-b4a8-42c2-91e5-ac6387eaf707",
   "metadata": {},
   "source": [
    "###BAR CHART"
   ]
  },
  {
   "cell_type": "code",
   "execution_count": 118,
   "id": "1f039628-7520-4add-a696-9c5823ab5d62",
   "metadata": {},
   "outputs": [
    {
     "data": {
      "image/png": "[encoded data removed]",
      "text/plain": [
       "<Figure size 640x480 with 1 Axes>"
      ]
     },
     "metadata": {},
     "output_type": "display_data"
    }
   ],
   "source": [
    "import matplotlib.pyplot as plt  \n",
    "\n",
    "# Assuming your DataFrame is named df24 and it has a column 'SEX'  \n",
    "df25['GENDER'].value_counts().plot(kind='bar')  \n",
    "\n",
    "# Display the plot  \n",
    "plt.show()"
   ]
  },
  {
   "cell_type": "markdown",
   "id": "38a3363b-1871-4e3b-bc6f-6dfa1ed80005",
   "metadata": {},
   "source": [
    "###BAR PLOT"
   ]
  },
  {
   "cell_type": "code",
   "execution_count": 121,
   "id": "b307672d-2f61-4392-bae3-68f334da5e18",
   "metadata": {},
   "outputs": [
    {
     "data": {
      "image/png": "[encoded data removed]",
      "text/plain": [
       "<Figure size 640x480 with 1 Axes>"
      ]
     },
     "metadata": {},
     "output_type": "display_data"
    }
   ],
   "source": [
    "\n",
    "sns.barplot(x='GENDER',y='LOS',data=df25)\n",
    "plt.title('Average LOS by Gender')  \n",
    "plt.xlabel('Gender')  \n",
    "plt.ylabel('LOS (Days)')  \n",
    "\n",
    "plt.show() "
   ]
  },
  {
   "cell_type": "markdown",
   "id": "3c53063d-3b08-47a3-8267-ccb18f276187",
   "metadata": {},
   "source": [
    "###HISTOGRAM"
   ]
  },
  {
   "cell_type": "code",
   "execution_count": 124,
   "id": "d3af8beb-aedc-421d-8482-cda6ffd37735",
   "metadata": {},
   "outputs": [
    {
     "data": {
      "image/png": "[encoded data removed]",
      "text/plain": [
       "<Figure size 640x480 with 1 Axes>"
      ]
     },
     "metadata": {},
     "output_type": "display_data"
    }
   ],
   "source": [
    "# Import necessary libraries  \n",
    "import seaborn as sns  \n",
    "import matplotlib.pyplot as plt  \n",
    "\n",
    "# Creating the histogram with KDE  \n",
    "sns.histplot(df25['AGE'], kde=True)  \n",
    "\n",
    "# Adding titles and labels for better understanding of the plot  \n",
    "plt.title('Distribution of AGE')  \n",
    "plt.xlabel('AGE')  \n",
    "plt.ylabel('Frequency')  \n",
    "\n",
    "# Display the plot  \n",
    "plt.show()\n"
   ]
  },
  {
   "cell_type": "markdown",
   "id": "dd6147a0-1240-4e15-87b6-fbc3b2667010",
   "metadata": {},
   "source": [
    "###PROBABILITY PLOT"
   ]
  },
  {
   "cell_type": "code",
   "execution_count": 127,
   "id": "7bf0d5f5-85b5-4505-b48b-a8d7d09a5f89",
   "metadata": {},
   "outputs": [
    {
     "data": {
      "text/plain": [
       "<Figure size 640x480 with 0 Axes>"
      ]
     },
     "execution_count": 127,
     "metadata": {},
     "output_type": "execute_result"
    },
    {
     "data": {
      "image/png": "[encoded data removed]",
      "text/plain": [
       "<Figure size 640x480 with 1 Axes>"
      ]
     },
     "metadata": {},
     "output_type": "display_data"
    },
    {
     "data": {
      "text/plain": [
       "<Figure size 640x480 with 0 Axes>"
      ]
     },
     "metadata": {},
     "output_type": "display_data"
    }
   ],
   "source": [
    "stats.probplot(df25[df25['GENDER'] == 'F']['LOS'],plot=plt)\n",
    "plt.figure()"
   ]
  },
  {
   "cell_type": "code",
   "execution_count": null,
   "id": "29331c51-b66a-450f-98c5-1d8e48261c19",
   "metadata": {},
   "outputs": [],
   "source": []
  },
  {
   "cell_type": "markdown",
   "id": "c3998c02-f942-4e0b-bd33-07e99429b33f",
   "metadata": {},
   "source": [
    "##DATA ANALYSIS"
   ]
  },
  {
   "cell_type": "markdown",
   "id": "7cfae301-8dc8-4b5d-8c65-bde2b845b2a6",
   "metadata": {},
   "source": [
    "###SHAPIRO TEST FOR FEMALE SUBGROUP"
   ]
  },
  {
   "cell_type": "code",
   "execution_count": 132,
   "id": "e9d5b81e-da43-460c-8548-73c96f208a2f",
   "metadata": {},
   "outputs": [
    {
     "name": "stdout",
     "output_type": "stream",
     "text": [
      "Statistics=0.566, p-value=0.000\n",
      "Sample does not look Gaussian (reject H0)\n"
     ]
    }
   ],
   "source": [
    "from scipy.stats import shapiro    #library needed to calculate SHAPIRO TEST\n",
    "df25_female\n",
    "\n",
    "# Perform Shapiro-Wilk test on the 'Value' column  \n",
    "stat, p_value = shapiro(df25_female['LOS'])  \n",
    "\n",
    "print('Statistics=%.3f, p-value=%.3f' % (stat, p_value))  \n",
    "\n",
    "# Interpret the p-value  \n",
    "alpha = 0.05  # Significance level  \n",
    "if p_value > alpha:  \n",
    "    print('Sample looks Gaussian (fail to reject H0)')  \n",
    "else:  \n",
    "    print('Sample does not look Gaussian (reject H0)')"
   ]
  },
  {
   "cell_type": "markdown",
   "id": "cc101629-aa11-4846-b9ff-414db34cb419",
   "metadata": {},
   "source": [
    "###SHAPIRO TEST FOR MALE SUBGROUP"
   ]
  },
  {
   "cell_type": "code",
   "execution_count": 135,
   "id": "db660c55-871b-420a-82e2-2187ddfb3b10",
   "metadata": {},
   "outputs": [
    {
     "name": "stdout",
     "output_type": "stream",
     "text": [
      "Statistics=0.632, p-value=0.000\n",
      "Sample does not look Gaussian (reject H0)\n"
     ]
    }
   ],
   "source": [
    "\n",
    "df25_male  \n",
    "\n",
    "# Perform Shapiro-Wilk test on the 'Value' column  \n",
    "stat, p_value = shapiro(df25_male['LOS'])  \n",
    "\n",
    "print('Statistics=%.3f, p-value=%.3f' % (stat, p_value))  \n",
    "\n",
    "# Interpret the p-value  \n",
    "alpha = 0.05  # Significance level  \n",
    "if p_value > alpha:  \n",
    "    print('Sample looks Gaussian (fail to reject H0)')  \n",
    "else:  \n",
    "    print('Sample does not look Gaussian (reject H0)')"
   ]
  },
  {
   "cell_type": "code",
   "execution_count": null,
   "id": "b2360995-17e8-4880-b153-40834e91bf79",
   "metadata": {},
   "outputs": [],
   "source": []
  },
  {
   "cell_type": "markdown",
   "id": "ea34feb0-d794-4349-a78c-dd60ad94a6ac",
   "metadata": {},
   "source": [
    "###MANNWHITNEY U TEST "
   ]
  },
  {
   "cell_type": "code",
   "execution_count": 139,
   "id": "adfc29e0-a671-4fdf-8602-c30e0ed30c69",
   "metadata": {},
   "outputs": [
    {
     "name": "stdout",
     "output_type": "stream",
     "text": [
      "U statistic: 31243.5\n",
      "p-value: 0.10053706973553998\n",
      "There is no significant difference between the two groups.\n"
     ]
    }
   ],
   "source": [
    "import numpy as np  \n",
    "from scipy.stats import mannwhitneyu  \n",
    "\n",
    "# Sample data for two groups  \n",
    "group1= df25_female['LOS']\n",
    "group2= df25_male['LOS']  \n",
    "\n",
    "# Perform the Mann-Whitney U test  \n",
    "U_statistic, p_value = mannwhitneyu(group1, group2, alternative='two-sided')  \n",
    "\n",
    "# Outputs  \n",
    "print(\"U statistic:\", U_statistic)  \n",
    "print(\"p-value:\", p_value)  \n",
    "\n",
    "# Interpretation  \n",
    "if p_value < 0.05:  \n",
    "    print(\"There is a significant difference between the two groups.\")  \n",
    "else:  \n",
    "    print(\"There is no significant difference between the two groups.\")"
   ]
  },
  {
   "cell_type": "code",
   "execution_count": null,
   "id": "cd06a894-15fd-4a50-9d19-66a6da8af619",
   "metadata": {},
   "outputs": [],
   "source": []
  },
  {
   "cell_type": "markdown",
   "id": "5e372627-024f-4fd0-ac13-f57380163df2",
   "metadata": {},
   "source": [
    "##INTERPRETATION OF RESULTS"
   ]
  },
  {
   "cell_type": "markdown",
   "id": "0be9cc64-33f7-44a5-8745-add8122390f2",
   "metadata": {},
   "source": [
    "The Hospital stay, also called length of stay,  was not significantly different between male and female patients in the second quarter of 2023 in the Department of Internal Medicine."
   ]
  },
  {
   "cell_type": "code",
   "execution_count": null,
   "id": "801983c6-9280-4da1-ac96-7c840b4bd94e",
   "metadata": {},
   "outputs": [],
   "source": []
  },
  {
   "cell_type": "markdown",
   "id": "b280cd57-dde2-4aba-83f3-b6ebb50b772f",
   "metadata": {},
   "source": [
    "##DISSEMINATION OF THE NEW KNOWLEDGE"
   ]
  },
  {
   "cell_type": "markdown",
   "id": "dc343da4-5e29-481b-9932-61163d946f25",
   "metadata": {},
   "source": [
    "A written report on the findings and their interpretation was given to the stakeholders"
   ]
  }
 ],
 "metadata": {
  "kernelspec": {
   "display_name": "Python 3 (ipykernel)",
   "language": "python",
   "name": "python3"
  },
  "language_info": {
   "codemirror_mode": {
    "name": "ipython",
    "version": 3
   },
   "file_extension": ".py",
   "mimetype": "text/x-python",
   "name": "python",
   "nbconvert_exporter": "python",
   "pygments_lexer": "ipython3",
   "version": "3.11.7"
  }
 },
 "nbformat": 4,
 "nbformat_minor": 5
}
